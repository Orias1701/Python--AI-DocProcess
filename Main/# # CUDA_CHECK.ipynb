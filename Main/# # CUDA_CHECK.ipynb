{
 "cells": [
  {
   "cell_type": "code",
   "execution_count": 1,
   "metadata": {},
   "outputs": [
    {
     "name": "stdout",
     "output_type": "stream",
     "text": [
      "CUDA supported: True\n",
      "Number of GPUs: 1\n",
      "Current GPU name: NVIDIA GeForce RTX 2050\n",
      "CUDA device capability: (8, 6)\n",
      "CUDA version (PyTorch compiled with): 12.1\n",
      "cuDNN version: 90100\n"
     ]
    }
   ],
   "source": [
    "import torch\n",
    "\n",
    "# Kiểm tra xem CUDA có được hỗ trợ không\n",
    "print(\"CUDA supported:\", torch.cuda.is_available())\n",
    "\n",
    "# Số lượng GPU khả dụng\n",
    "print(\"Number of GPUs:\", torch.cuda.device_count())\n",
    "\n",
    "# Tên GPU đang dùng\n",
    "if torch.cuda.is_available():\n",
    "    print(\"Current GPU name:\", torch.cuda.get_device_name(0))\n",
    "    print(\"CUDA device capability:\", torch.cuda.get_device_capability(0))\n",
    "    print(\"CUDA version (PyTorch compiled with):\", torch.version.cuda)\n",
    "    print(\"cuDNN version:\", torch.backends.cudnn.version())\n",
    "else:\n",
    "    print(\"CUDA not available.\")"
   ]
  }
 ],
 "metadata": {
  "kernelspec": {
   "display_name": "orias",
   "language": "python",
   "name": "python3"
  },
  "language_info": {
   "codemirror_mode": {
    "name": "ipython",
    "version": 3
   },
   "file_extension": ".py",
   "mimetype": "text/x-python",
   "name": "python",
   "nbconvert_exporter": "python",
   "pygments_lexer": "ipython3",
   "version": "3.10.11"
  }
 },
 "nbformat": 4,
 "nbformat_minor": 2
}
