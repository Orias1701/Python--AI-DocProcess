{
 "cells": [
  {
   "cell_type": "code",
   "execution_count": null,
   "metadata": {},
   "outputs": [],
   "source": [
    "import os\n",
    "import torch\n",
    "import faiss\n",
    "import logging\n",
    "from transformers import AutoTokenizer, AutoModel\n",
    "from sentence_transformers import SentenceTransformer\n",
    "from Libraries import A0_MyUtils as A0, A1_TextProcess as A1, A2_PdfProcess as A2\n",
    "from Libraries import B1_ExtractData as B1, B2_MergeData as B2, B3_GetStructures as B3\n",
    "from Libraries import B4_ChunkMaster as B4, B5_ChunkFlex as B5, B6_ChunkFixed as B6\n",
    "from Libraries import C1_CreateSchema as C1, C2_Embedding as C2, C3_CheckConstruct as C3\n",
    "from Libraries import D0_FaissConvert as D0, D1_Search as D1, D2_Rerank as D2, D3_Respond as D3\n",
    "from Config import Widgets, Configs"
   ]
  },
  {
   "cell_type": "code",
   "execution_count": null,
   "metadata": {},
   "outputs": [],
   "source": [
    "widgets_list = Widgets.create_name_form()"
   ]
  },
  {
   "cell_type": "code",
   "execution_count": null,
   "metadata": {},
   "outputs": [],
   "source": [
    "logging.basicConfig(level=logging.INFO, format='%(asctime)s - %(levelname)s - %(message)s')\n",
    "os.environ[\"HF_HUB_DISABLE_SYMLINKS_WARNING\"] = \"1\"\n",
    "os.environ[\"CUDA_LAUNCH_BLOCKING\"] = \"1\"\n",
    "os.environ[\"TORCH_USE_CUDA_DSA\"] = \"1\"\n",
    "force_download = True"
   ]
  },
  {
   "cell_type": "code",
   "execution_count": null,
   "metadata": {},
   "outputs": [],
   "source": [
    "config = Configs.WidgetValues(widgets_list)\n",
    "\n",
    "data_foler = config[\"data_folder\"]\n",
    "dcmt_path = config[\"dcmt_path\"]\n",
    "base_folder = config[\"base_folder\"]\n",
    "base_path = config[\"base_path\"]\n",
    "extracted_path = config[\"extracted_path\"]\n",
    "merged_path = config[\"merged_path\"]\n",
    "struct_path = config[\"struct_path\"]\n",
    "chunks_base = config[\"chunks_base\"]\n",
    "chunks_segment = config[\"chunks_segment\"]\n",
    "schema_ex_path = config[\"schema_ex_path\"]\n",
    "embedding_path = config[\"embedding_path\"]\n",
    "torch_path = config[\"torch_path\"]\n",
    "faiss_path = config[\"faiss_path\"]\n",
    "mapping_path = config[\"mapping_path\"]\n",
    "mapping_data = config[\"mapping_data\"]\n",
    "\n",
    "FILE_TYPE = config[\"FILE_TYPE\"]\n",
    "DATA_KEY = config[\"DATA_KEY\"]\n",
    "EMBE_KEY = config[\"EMBE_KEY\"]\n",
    "SWITCH = config[\"SWITCH\"]\n",
    "EMBEDD_MODEL = config[\"EMBEDD_MODEL\"]\n",
    "SEARCH_EGINE = config[\"SEARCH_EGINE\"]\n",
    "RERANK_MODEL = config[\"RERANK_MODEL\"]\n",
    "RESPON_MODEL = config[\"RESPON_MODEL\"]\n",
    "MERGE = config[\"MERGE\"]\n",
    "API_KEY = config[\"API_KEY\"]\n",
    "\n",
    "WORD_LIMIT = config[\"WORD_LIMIT\"]\n",
    "LEVEL_INPUT = config[\"LEVEL_INPUT\"]\n",
    "LEVEL_VALUES = config[\"LEVEL_VALUES\"]\n",
    "\n",
    "Contents = LEVEL_VALUES[-1] if LEVEL_VALUES else None\n",
    "\n",
    "SEARCH_ENGINE = faiss.IndexFlatIP"
   ]
  },
  {
   "cell_type": "markdown",
   "metadata": {},
   "source": [
    "## Prepare"
   ]
  },
  {
   "cell_type": "markdown",
   "metadata": {},
   "source": [
    "### Device"
   ]
  },
  {
   "cell_type": "code",
   "execution_count": null,
   "metadata": {},
   "outputs": [],
   "source": [
    "print(\"CUDA supported:\", torch.cuda.is_available())\n",
    "print(\"Number of GPUs:\", torch.cuda.device_count())\n",
    "if torch.cuda.is_available():\n",
    "    print(\"Current GPU name:\", torch.cuda.get_device_name(0))\n",
    "    print(\"CUDA device capability:\", torch.cuda.get_device_capability(0))\n",
    "    print(\"CUDA version (PyTorch):\", torch.version.cuda)\n",
    "    print(\"cuDNN version:\", torch.backends.cudnn.version())\n",
    "else:\n",
    "    print(\"CUDA not available.\")\n",
    "\n",
    "device = torch.device(\"cuda\" if torch.cuda.is_available() else \"cpu\")\n",
    "cached_path = \"../Models\"\n",
    "\n",
    "def load_auto_model(path_or_name, device):\n",
    "    try:\n",
    "        tokenizer = AutoTokenizer.from_pretrained(path_or_name)\n",
    "        model = AutoModel.from_pretrained(path_or_name).to(device)\n",
    "        return tokenizer, model\n",
    "    except (OSError, FileNotFoundError) as e:\n",
    "        print(\"❌ Model files missing:\", e)\n",
    "        return None, None\n",
    "    except RuntimeError as e:\n",
    "        print(\"⚠️ GPU issue, fallback to CPU:\", e)\n",
    "        tokenizer = AutoTokenizer.from_pretrained(path_or_name)\n",
    "        model = AutoModel.from_pretrained(path_or_name).to(\"cpu\")\n",
    "        return tokenizer, model\n",
    "    except Exception as e:\n",
    "        print(\"❌ Unexpected error:\", e)\n",
    "        raise\n",
    "\n",
    "def load_sentence_model(path_or_name, device):\n",
    "    try:\n",
    "        return SentenceTransformer(path_or_name, device=str(device))\n",
    "    except (OSError, FileNotFoundError) as e:\n",
    "        print(\"❌ Model files missing:\", e)\n",
    "        return None\n",
    "    except RuntimeError as e:\n",
    "        print(\"⚠️ GPU issue, fallback to CPU:\", e)\n",
    "        return SentenceTransformer(path_or_name, device=\"cpu\")\n",
    "    except Exception as e:\n",
    "        print(\"❌ Unexpected error:\", e)\n",
    "        raise\n",
    "\n",
    "# Select Model\n",
    "if SWITCH == \"Auto Model\":\n",
    "    if os.path.exists(cached_path):\n",
    "        tokenizer, model = load_auto_model(cached_path, device)\n",
    "        print(f\"ℹ️ Auto Model: {cached_path}\")\n",
    "        if model is None:\n",
    "            tokenizer, model = load_auto_model(EMBEDD_MODEL, device)\n",
    "    else:\n",
    "        print(f\"ℹ️ Auto Model: {EMBEDD_MODEL}\")\n",
    "        tokenizer, model = load_auto_model(EMBEDD_MODEL, device)\n",
    "\n",
    "elif SWITCH == \"Sentence Transformer\":\n",
    "    if os.path.exists(cached_path):\n",
    "        model = load_sentence_model(cached_path, device)\n",
    "        print(f\"ℹ️ Sentece Transformer: {cached_path}\")\n",
    "\n",
    "        if model is None:\n",
    "            model = load_sentence_model(EMBEDD_MODEL, device)\n",
    "    else:\n",
    "        print(f\"ℹ️ Sentece Transformer: {EMBEDD_MODEL}\")\n",
    "        model = load_sentence_model(EMBEDD_MODEL, device)\n",
    "\n",
    "print(f\"✅ Using: {device}\")"
   ]
  },
  {
   "cell_type": "markdown",
   "metadata": {},
   "source": [
    "### Assets"
   ]
  },
  {
   "cell_type": "code",
   "execution_count": null,
   "metadata": {},
   "outputs": [],
   "source": [
    "assets = \"../Assets/\"\n",
    "exceptions_path = f\"{assets}ex.exceptions.json\"\n",
    "markers_path = f\"{assets}ex.markers.json\"\n",
    "status_path = f\"{assets}ex.status.json\""
   ]
  },
  {
   "cell_type": "markdown",
   "metadata": {},
   "source": [
    "### Extract Data"
   ]
  },
  {
   "cell_type": "code",
   "execution_count": null,
   "metadata": {},
   "outputs": [],
   "source": [
    "dataExtractor = B1.B1Extractor(\n",
    "    exceptions_path, \n",
    "    markers_path, \n",
    "    status_path, \n",
    "    proper_name_min_count=10)"
   ]
  },
  {
   "cell_type": "code",
   "execution_count": null,
   "metadata": {},
   "outputs": [],
   "source": [
    "extracted_data = dataExtractor.extract(dcmt_path)\n",
    "A0.write_json(extracted_data, extracted_path, indent=1)\n",
    "\n",
    "merged_data = B2.mergeLinesToParagraphs(extracted_data)\n",
    "A0.write_json(merged_data, merged_path, indent=1)"
   ]
  },
  {
   "cell_type": "markdown",
   "metadata": {},
   "source": [
    "### Get Struct"
   ]
  },
  {
   "cell_type": "code",
   "execution_count": null,
   "metadata": {},
   "outputs": [],
   "source": [
    "analyzer = B3.StructureAnalyzer(merged_path, verbose=True)"
   ]
  },
  {
   "cell_type": "code",
   "execution_count": null,
   "metadata": {},
   "outputs": [],
   "source": [
    "markers = analyzer.extract_markers()\n",
    "\n",
    "structures = analyzer.build_structures(markers)\n",
    "print(A0.jsonl_convert(structures))\n",
    "\n",
    "dedup = analyzer.deduplicate(structures)\n",
    "print(A0.jsonl_convert(dedup))\n",
    "\n",
    "top = analyzer.select_top(dedup)\n",
    "topext = analyzer.extend_top(top, dedup)\n",
    "print(A0.json_convert(topext, pretty=True))\n",
    "\n",
    "A0.write_json(topext, struct_path, indent=2)"
   ]
  },
  {
   "cell_type": "markdown",
   "metadata": {},
   "source": [
    "### Chunks"
   ]
  },
  {
   "cell_type": "code",
   "execution_count": null,
   "metadata": {},
   "outputs": [],
   "source": [
    "builder = B4.ChunkBuilder(\n",
    "    struct_path=struct_path,\n",
    "    merged_path=merged_path,\n",
    "    output_path=\"Data_HNMU_Regulations_Chunks.json\"\n",
    ")"
   ]
  },
  {
   "cell_type": "code",
   "execution_count": null,
   "metadata": {},
   "outputs": [],
   "source": [
    "chunks = builder.build()\n",
    "A0.write_json(chunks, chunks_base, indent=2)"
   ]
  },
  {
   "cell_type": "code",
   "execution_count": null,
   "metadata": {},
   "outputs": [],
   "source": [
    "A0.write_json(chunks, chunks_segment, indent=2)"
   ]
  },
  {
   "cell_type": "markdown",
   "metadata": {},
   "source": [
    "### Schema Extract"
   ]
  },
  {
   "cell_type": "code",
   "execution_count": null,
   "metadata": {},
   "outputs": [],
   "source": [
    "schemaEx = C1.JSONSchemaExtractor(list_policy=\"first\", verbose=True)"
   ]
  },
  {
   "cell_type": "code",
   "execution_count": null,
   "metadata": {},
   "outputs": [],
   "source": [
    "if os.path.exists(chunks_segment):\n",
    "    if not os.path.exists(schema_ex_path): \n",
    "        schemaEx.schemaRun(chunks_segment, schema_path=schema_ex_path)\n",
    "    chunksSchema = A0.read_json(schema_ex_path)\n",
    "    print(chunksSchema)\n",
    "else:\n",
    "    print(f\"{chunks_segment} does not exist\")"
   ]
  },
  {
   "cell_type": "markdown",
   "metadata": {},
   "source": [
    "### Embedding"
   ]
  },
  {
   "cell_type": "code",
   "execution_count": null,
   "metadata": {},
   "outputs": [],
   "source": [
    "Embedding = C2.JSONEmbedding(\n",
    "    model=model,\n",
    "    device=\"cuda:0\",\n",
    "    batch_size=32,\n",
    "    show_progress=False,\n",
    "    flatten_mode=\"split\"\n",
    ")"
   ]
  },
  {
   "cell_type": "code",
   "execution_count": null,
   "metadata": {},
   "outputs": [],
   "source": [
    "if os.path.exists(chunks_segment):\n",
    "    if not os.path.exists(torch_path):\n",
    "\n",
    "        Embedding.embeddingRun(\n",
    "            json_path = chunks_segment,\n",
    "            schema_path = schema_ex_path,\n",
    "            torch_path = torch_path,\n",
    "            data_key = DATA_KEY,\n",
    "            embe_key = EMBE_KEY,    \n",
    "        )\n",
    "        \n",
    "    C3.print_json(DATA_KEY, EMBE_KEY, torch_path)\n",
    "else:\n",
    "    print(f\"{chunks_segment} does not exist\")"
   ]
  },
  {
   "cell_type": "markdown",
   "metadata": {},
   "source": [
    "### Convert to Faiss"
   ]
  },
  {
   "cell_type": "code",
   "execution_count": null,
   "metadata": {},
   "outputs": [],
   "source": [
    "if os.path.exists(torch_path):\n",
    "    if not os.path.exists(faiss_path):\n",
    "        D0.convert_pt_to_faiss(\n",
    "            torch_path=torch_path, \n",
    "            faiss_path=faiss_path, \n",
    "            mapping_path=mapping_path, \n",
    "            mapping_data=mapping_data, \n",
    "            data_key = DATA_KEY,\n",
    "            nlist = 100, \n",
    "            use_pickle = False)\n",
    "    else: \n",
    "        print(f\"{faiss_path} alredy existed\")\n",
    "else:\n",
    "    print(f\"{torch_path} does not exist\")"
   ]
  },
  {
   "cell_type": "markdown",
   "metadata": {},
   "source": [
    "## RAG - Main"
   ]
  },
  {
   "cell_type": "markdown",
   "metadata": {},
   "source": [
    "### Funcs"
   ]
  },
  {
   "cell_type": "code",
   "execution_count": null,
   "metadata": {},
   "outputs": [],
   "source": [
    "def searchRun(user_question):\n",
    "    preliminary_results = D1.search_faiss_index(\n",
    "        MERGE = MERGE,\n",
    "        query= user_question,\n",
    "        embedd_model=EMBEDD_MODEL,\n",
    "        faiss_path=faiss_path,\n",
    "        mapping_path=mapping_path,\n",
    "        mapping_data=mapping_data,\n",
    "        device=device,\n",
    "        k=2,\n",
    "        min_score = 5,\n",
    "        batches = False,\n",
    "    )\n",
    "    return preliminary_results\n",
    "\n",
    "def rerankRun(user_question, preliminary_results):\n",
    "    reranked_results = D2.rerank_results(\n",
    "        query= user_question,\n",
    "        results=preliminary_results,\n",
    "        reranker_model=RERANK_MODEL,\n",
    "        device=device,\n",
    "        k=5,\n",
    "        batches = False,\n",
    "    )\n",
    "    context = '\\n\\n'.join(item['text'] for item in reranked_results)\n",
    "    return reranked_results, context\n",
    "\n",
    "def respondRun(user_question, prompt, context=\"\", doc=False):\n",
    "    response = D3.respond_naturally(\n",
    "        user_question = user_question,\n",
    "        context = context,\n",
    "        prompt = prompt,\n",
    "        responser_model=RESPON_MODEL,\n",
    "        score_threshold=0.85,\n",
    "        max_results=3,\n",
    "        doc = doc,\n",
    "        gemini_api_key=API_KEY,\n",
    "    )\n",
    "    return response"
   ]
  },
  {
   "cell_type": "markdown",
   "metadata": {},
   "source": [
    "### Main"
   ]
  },
  {
   "cell_type": "code",
   "execution_count": null,
   "metadata": {},
   "outputs": [],
   "source": [
    "prompt_type = \"Docs\"\n",
    "\n",
    "queries = [\n",
    "    \"Quy chế này quy định những gì và áp dụng cho đối tượng nào\",\n",
    "    \"Sinh viên có thể được thi lại bao nhiêu lần?\",\n",
    "]\n",
    "\n",
    "def chatRun():\n",
    "\n",
    "    prompt_path = f\"Prompts/{prompt_type}_Prompt.txt\"\n",
    "    with open(prompt_path, \"r\", encoding=\"utf-8\") as f: prompt = f.read()\n",
    "\n",
    "    print(\"<< Enter 'exit', 'quit', 'escape', 'bye' or Press ESC to exit >>\")\n",
    "    print(\"Chatbot: Hello there! I'm here to help you!\\n\\n\")\n",
    "\n",
    "    query = -1\n",
    "    while True:\n",
    "        try:\n",
    "            query += 1\n",
    "            if query >= len(queries):\n",
    "                user_input = \"exit\"\n",
    "            else:\n",
    "                user_input = queries[query]\n",
    "\n",
    "            # user_input = input(\"You: \")\n",
    "\n",
    "            user_question = A0.preprocess_text(user_input)\n",
    "            if user_input.strip().lower() in [\"exit\", \"quit\", \"escape\", \"bye\", \"\"]:\n",
    "                print(\"Chatbot: Goodbye!\")\n",
    "                break\n",
    "\n",
    "            print(f\"Query: {user_question}\")\n",
    "\n",
    "            # Bước 1: Search\n",
    "            preliminary_results = searchRun(user_question)\n",
    "            \n",
    "            # Bước 2: Rerank\n",
    "            if preliminary_results:\n",
    "                print(preliminary_results)\n",
    "                reranked_results, context = rerankRun(user_question, preliminary_results)\n",
    "            else:\n",
    "                print(\"Không tìm thấy thông tin!\")\n",
    "\n",
    "            # Bước 3: Generate Response\n",
    "            if (reranked_results):\n",
    "                print(reranked_results)\n",
    "                print(f\"\\n Context:\\n {context}\")\n",
    "                response = respondRun(user_question, prompt, context=\"\", doc=True)\n",
    "            else:\n",
    "                print(\"Rerank thất bại!\")\n",
    "\n",
    "            # Bước 4: Print Response\n",
    "            if response:\n",
    "                print(f\"\\nYou: {user_question}\")\n",
    "                print(f\"Chatbot: {response}\\n\\n\")\n",
    "            else:\n",
    "                print(\"LLM không phản hồi!\")\n",
    "\n",
    "            print(\"=\" * 200)\n",
    "            print(\"\\n\\n\")\n",
    "\n",
    "        except KeyboardInterrupt:\n",
    "            print(\"\\nChatbot: Goodbye!\")\n",
    "            break"
   ]
  },
  {
   "cell_type": "code",
   "execution_count": null,
   "metadata": {},
   "outputs": [],
   "source": [
    "# chatRun()"
   ]
  }
 ],
 "metadata": {
  "kernelspec": {
   "display_name": "master",
   "language": "python",
   "name": "python3"
  },
  "language_info": {
   "codemirror_mode": {
    "name": "ipython",
    "version": 3
   },
   "file_extension": ".py",
   "mimetype": "text/x-python",
   "name": "python",
   "nbconvert_exporter": "python",
   "pygments_lexer": "ipython3",
   "version": "3.11.13"
  }
 },
 "nbformat": 4,
 "nbformat_minor": 2
}
