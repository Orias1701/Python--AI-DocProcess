{
 "cells": [
  {
   "cell_type": "code",
   "execution_count": null,
   "id": "307a6271",
   "metadata": {},
   "outputs": [],
   "source": [
    "import os\n",
    "import torch\n",
    "import faiss\n",
    "import logging\n",
    "from transformers import AutoTokenizer, AutoModel\n",
    "from sentence_transformers import SentenceTransformer\n",
    "from Libraries import A0_Widgets, A1_Define\n",
    "from Libraries import C1_CreateSchema, C2_Embedding, C3_CheckConstruct"
   ]
  },
  {
   "cell_type": "code",
   "execution_count": null,
   "id": "d8cfe825",
   "metadata": {},
   "outputs": [],
   "source": [
    "widgets_list = A0_Widgets.create_name_form()"
   ]
  },
  {
   "cell_type": "code",
   "execution_count": 3,
   "id": "7b27655b",
   "metadata": {},
   "outputs": [],
   "source": [
    "logging.basicConfig(level=logging.INFO, format='%(asctime)s - %(levelname)s - %(message)s')\n",
    "os.environ[\"HF_HUB_DISABLE_SYMLINKS_WARNING\"] = \"1\"\n",
    "force_download = True"
   ]
  },
  {
   "cell_type": "code",
   "execution_count": null,
   "id": "426e75ac",
   "metadata": {},
   "outputs": [],
   "source": [
    "config = A1_Define.WidgetValues(widgets_list)\n",
    "\n",
    "data_foler = config[\"data_folder\"]\n",
    "dcmt_path = config[\"dcmt_path\"]\n",
    "base_folder = config[\"base_folder\"]\n",
    "base_path = config[\"base_path\"]\n",
    "chunks_base = config[\"chunks_base\"]\n",
    "json_file_path = config[\"json_file_path\"]\n",
    "schema_ex_path = config[\"schema_ex_path\"]\n",
    "embedding_path = config[\"embedding_path\"]\n",
    "torch_path = config[\"torch_path\"]\n",
    "faiss_path = config[\"faiss_path\"]\n",
    "mapping_path = config[\"mapping_path\"]\n",
    "mapping_data = config[\"mapping_data\"]\n",
    "\n",
    "FILE_TYPE = config[\"FILE_TYPE\"]\n",
    "DATA_KEY = config[\"DATA_KEY\"]\n",
    "EMBE_KEY = config[\"EMBE_KEY\"]\n",
    "SWITCH = config[\"SWITCH\"]\n",
    "EMBEDD_MODEL = config[\"EMBEDD_MODEL\"]\n",
    "SEARCH_EGINE = config[\"SEARCH_EGINE\"]\n",
    "RERANK_MODEL = config[\"RERANK_MODEL\"]\n",
    "RESPON_MODEL = config[\"RESPON_MODEL\"]\n",
    "MERGE = config[\"MERGE\"]\n",
    "API_KEY = config[\"API_KEY\"]\n",
    "\n",
    "WORD_LIMIT = config[\"WORD_LIMIT\"]\n",
    "LEVEL_INPUT = config[\"LEVEL_INPUT\"]\n",
    "LEVEL_VALUES = config[\"LEVEL_VALUES\"]\n",
    "\n",
    "SEARCH_ENGINE = faiss.IndexFlatIP"
   ]
  },
  {
   "cell_type": "code",
   "execution_count": null,
   "id": "98995df1",
   "metadata": {},
   "outputs": [],
   "source": [
    "device = torch.device(\"cuda\" if torch.cuda.is_available() else \"cpu\")\n",
    "\n",
    "if (SWITCH == \"Auto Model\"):\n",
    "    try:\n",
    "        tokenizer = AutoTokenizer.from_pretrained(EMBEDD_MODEL, force_download=force_download)\n",
    "        model = AutoModel.from_pretrained(EMBEDD_MODEL, force_download=force_download)\n",
    "        model = model.to(device)\n",
    "        print(\"Model and tokenizer loaded successfully\")\n",
    "    except Exception as e:\n",
    "        raise\n",
    "elif (SWITCH == \"Sentence Transformer\"):\n",
    "    try:\n",
    "        # model = SentenceTransformer(EMBEDD_MODEL).to(device)\n",
    "        model = SentenceTransformer(\"../../cached_model\")\n",
    "        print(\"SentenceTransformer loaded successfully\")\n",
    "    except Exception as e:\n",
    "        raise\n",
    "\n",
    "print(f\"Using: {device}\")"
   ]
  },
  {
   "cell_type": "code",
   "execution_count": null,
   "id": "49ae7ff0",
   "metadata": {},
   "outputs": [],
   "source": [
    "C1_CreateSchema.create_schema(json_file_path, schema_ex_path)"
   ]
  },
  {
   "cell_type": "code",
   "execution_count": null,
   "id": "5cb29c1a",
   "metadata": {},
   "outputs": [],
   "source": [
    "C2_Embedding.json_embeddings(MERGE, json_file_path, torch_path, schema_ex_path, model, device, DATA_KEY, EMBE_KEY)"
   ]
  },
  {
   "cell_type": "code",
   "execution_count": null,
   "id": "52fe9d8d",
   "metadata": {},
   "outputs": [],
   "source": [
    "C3_CheckConstruct.print_json(DATA_KEY, torch_path)"
   ]
  },
  {
   "cell_type": "code",
   "execution_count": null,
   "id": "eefff8c8",
   "metadata": {},
   "outputs": [],
   "source": [
    "D0_FaissConvert.convert_pt_to_faiss(\n",
    "    torch_path=torch_path, \n",
    "    faiss_path=faiss_path, \n",
    "    mapping_path=mapping_path, \n",
    "    mapping_data=mapping_data, \n",
    "    data_key = DATA_KEY,\n",
    "    nlist = 100, \n",
    "    use_pickle = False)"
   ]
  }
 ],
 "metadata": {
  "kernelspec": {
   "display_name": "master",
   "language": "python",
   "name": "python3"
  },
  "language_info": {
   "codemirror_mode": {
    "name": "ipython",
    "version": 3
   },
   "file_extension": ".py",
   "mimetype": "text/x-python",
   "name": "python",
   "nbconvert_exporter": "python",
   "pygments_lexer": "ipython3",
   "version": "3.11.13"
  }
 },
 "nbformat": 4,
 "nbformat_minor": 5
}
