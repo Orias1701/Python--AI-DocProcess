{
 "cells": [
  {
   "cell_type": "code",
   "execution_count": null,
   "metadata": {},
   "outputs": [],
   "source": [
    "import os\n",
    "import faiss\n",
    "import logging\n",
    "from Libraries import A0_MyUtils as A0, A1_TextProcess as A1, A2_PdfProcess as A2\n",
    "from Libraries import B1_ExtractData as B1, B2_MergeData as B2, B3_GetStructures as B3\n",
    "from Libraries import B4_ChunkMaster as B4, B5_ChunkFlex as B5, B6_ChunkFixed as B6\n",
    "from Config import Widgets, Configs, ModelLoader as ML"
   ]
  },
  {
   "cell_type": "code",
   "execution_count": null,
   "metadata": {},
   "outputs": [],
   "source": [
    "widgets_list = Widgets.create_name_form()"
   ]
  },
  {
   "cell_type": "code",
   "execution_count": null,
   "metadata": {},
   "outputs": [],
   "source": [
    "logging.basicConfig(level=logging.INFO, format='%(asctime)s - %(levelname)s - %(message)s')\n",
    "os.environ[\"HF_HUB_DISABLE_SYMLINKS_WARNING\"] = \"1\"\n",
    "os.environ[\"CUDA_LAUNCH_BLOCKING\"] = \"1\"\n",
    "os.environ[\"TORCH_USE_CUDA_DSA\"] = \"1\""
   ]
  },
  {
   "cell_type": "code",
   "execution_count": null,
   "metadata": {},
   "outputs": [],
   "source": [
    "config = Configs.WidgetValues(widgets_list)\n",
    "\n",
    "data_foler = config[\"data_folder\"]\n",
    "dcmt_path = config[\"dcmt_path\"]\n",
    "base_folder = config[\"base_folder\"]\n",
    "base_path = config[\"base_path\"]\n",
    "extracted_path = config[\"extracted_path\"]\n",
    "merged_path = config[\"merged_path\"]\n",
    "struct_path = config[\"struct_path\"]\n",
    "chunks_struct = config[\"chunks_struct\"]\n",
    "chunks_segment = config[\"chunks_segment\"]\n",
    "schema_ex_path = config[\"schema_ex_path\"]\n",
    "embedding_path = config[\"embedding_path\"]\n",
    "torch_path = config[\"torch_path\"]\n",
    "faiss_path = config[\"faiss_path\"]\n",
    "mapping_path = config[\"mapping_path\"]\n",
    "map_data_path = config[\"map_data_path\"]\n",
    "meta_path = config[\"meta_path\"]\n",
    "\n",
    "FILE_TYPE = config[\"FILE_TYPE\"]\n",
    "DATA_KEY = config[\"DATA_KEY\"]\n",
    "EMBE_KEY = config[\"EMBE_KEY\"]\n",
    "SWITCH = config[\"SWITCH\"]\n",
    "EMBEDD_MODEL = config[\"EMBEDD_MODEL\"]\n",
    "SEARCH_EGINE = config[\"SEARCH_EGINE\"]\n",
    "RERANK_MODEL = config[\"RERANK_MODEL\"]\n",
    "RESPON_MODEL = config[\"RESPON_MODEL\"]\n",
    "API_KEY = config[\"API_KEY\"]\n",
    "\n",
    "WORD_LIMIT = config[\"WORD_LIMIT\"]\n",
    "\n",
    "SEARCH_ENGINE = faiss.IndexFlatIP"
   ]
  },
  {
   "cell_type": "markdown",
   "metadata": {},
   "source": [
    "## Prepare"
   ]
  },
  {
   "cell_type": "markdown",
   "metadata": {},
   "source": [
    "### Fixed"
   ]
  },
  {
   "cell_type": "code",
   "execution_count": null,
   "metadata": {},
   "outputs": [],
   "source": [
    "# assets\n",
    "assets = \"../Assets/\"\n",
    "exceptions_path = f\"{assets}ex.exceptions.json\"\n",
    "markers_path = f\"{assets}ex.markers.json\"\n",
    "status_path = f\"{assets}ex.status.json\""
   ]
  },
  {
   "cell_type": "markdown",
   "metadata": {},
   "source": [
    "### Import Classes"
   ]
  },
  {
   "cell_type": "code",
   "execution_count": null,
   "metadata": {},
   "outputs": [],
   "source": [
    "dataExtractor = B1.B1Extractor(\n",
    "    exceptions_path, \n",
    "    markers_path, \n",
    "    status_path, \n",
    "    proper_name_min_count=10\n",
    ")"
   ]
  },
  {
   "cell_type": "code",
   "execution_count": null,
   "metadata": {},
   "outputs": [],
   "source": [
    "structAnalyzer = B3.StructureAnalyzer(\n",
    "    merged_path = merged_path,\n",
    "    verbose=True\n",
    ")"
   ]
  },
  {
   "cell_type": "code",
   "execution_count": null,
   "metadata": {},
   "outputs": [],
   "source": [
    "chunkBuilder = B4.ChunkBuilder(\n",
    "    struct_path=struct_path,\n",
    "    merged_path=merged_path,\n",
    ")"
   ]
  },
  {
   "cell_type": "markdown",
   "metadata": {},
   "source": [
    "### Extract Data"
   ]
  },
  {
   "cell_type": "code",
   "execution_count": null,
   "metadata": {},
   "outputs": [],
   "source": [
    "def extractRun():\n",
    "    extracted_data = dataExtractor.extract(dcmt_path)\n",
    "    A0.write_json(extracted_data, extracted_path, indent=1)\n",
    "\n",
    "    merged_data = B2.mergeLinesToParagraphs(extracted_data)\n",
    "    A0.write_json(merged_data, merged_path, indent=1)"
   ]
  },
  {
   "cell_type": "markdown",
   "metadata": {},
   "source": [
    "### Get Struct"
   ]
  },
  {
   "cell_type": "code",
   "execution_count": null,
   "metadata": {},
   "outputs": [],
   "source": [
    "def structRun():\n",
    "    markers = structAnalyzer.extract_markers()\n",
    "\n",
    "    structures = structAnalyzer.build_structures(markers)\n",
    "    print(A0.jsonl_convert(structures))\n",
    "\n",
    "    dedup = structAnalyzer.deduplicate(structures)\n",
    "    print(A0.jsonl_convert(dedup))\n",
    "\n",
    "    top = structAnalyzer.select_top(dedup)\n",
    "    topext = structAnalyzer.extend_top(top, dedup)\n",
    "    print(A0.json_convert(topext, pretty=True))\n",
    "\n",
    "    A0.write_json(topext, struct_path, indent=2)"
   ]
  },
  {
   "cell_type": "markdown",
   "metadata": {},
   "source": [
    "### Chunks"
   ]
  },
  {
   "cell_type": "code",
   "execution_count": null,
   "metadata": {},
   "outputs": [],
   "source": [
    "def chunkRun():\n",
    "    chunks = chunkBuilder.build()\n",
    "    A0.write_json(chunks, chunks_base, indent=2)\n",
    "\n",
    "    filtered = [item for item in chunks if item.get(\"Level 1\", \"\").strip()]\n",
    "    for i, item in enumerate(filtered, start=1):\n",
    "        item[\"Index\"] = i\n",
    "\n",
    "    A0.write_json(filtered, chunks_segment, indent=2)"
   ]
  },
  {
   "cell_type": "markdown",
   "metadata": {},
   "source": [
    "### Run"
   ]
  },
  {
   "cell_type": "code",
   "execution_count": null,
   "metadata": {},
   "outputs": [],
   "source": [
    "if FILE_TYPE == \"Data\":\n",
    "    extractRun()\n",
    "    structRun()\n",
    "    chunkRun()"
   ]
  }
 ],
 "metadata": {
  "kernelspec": {
   "display_name": "master",
   "language": "python",
   "name": "python3"
  },
  "language_info": {
   "codemirror_mode": {
    "name": "ipython",
    "version": 3
   },
   "file_extension": ".py",
   "mimetype": "text/x-python",
   "name": "python",
   "nbconvert_exporter": "python",
   "pygments_lexer": "ipython3",
   "version": "3.11.13"
  }
 },
 "nbformat": 4,
 "nbformat_minor": 2
}
