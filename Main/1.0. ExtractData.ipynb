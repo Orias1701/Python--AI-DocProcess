{
 "cells": [
  {
   "cell_type": "code",
   "execution_count": null,
   "id": "572860f9",
   "metadata": {},
   "outputs": [],
   "source": [
    "import os\n",
    "import faiss\n",
    "from Libraries import A0_Widgets as A0, A1_Define as A1, A2_MyUtils as A2\n",
    "from Libraries import B1_ExtractData as B1, B2_MergeData as B2, B3_GetStructures as B3\n",
    "from Libraries import B4_ChunkMaster as B4, B5_ChunkFlex as B5, B6_ChunkFixed as B6"
   ]
  },
  {
   "cell_type": "code",
   "execution_count": null,
   "id": "2a90cc9b",
   "metadata": {},
   "outputs": [],
   "source": [
    "os.environ[\"HF_HUB_DISABLE_SYMLINKS_WARNING\"] = \"1\"\n",
    "widgets_list = A0.create_name_form()"
   ]
  },
  {
   "cell_type": "code",
   "execution_count": null,
   "id": "f3890ebe",
   "metadata": {},
   "outputs": [],
   "source": [
    "config = A1.WidgetValues(widgets_list)\n",
    "\n",
    "data_foler = config[\"data_folder\"]\n",
    "dcmt_path = config[\"dcmt_path\"]\n",
    "base_folder = config[\"base_folder\"]\n",
    "base_path = config[\"base_path\"]\n",
    "extracted_path = config[\"extracted_path\"]\n",
    "merged_path = config[\"merged_path\"]\n",
    "struct_path = config[\"struct_path\"]\n",
    "chunks_base = config[\"chunks_base\"]\n",
    "chunks_segment = config[\"chunks_segment\"]\n",
    "schema_ex_path = config[\"schema_ex_path\"]\n",
    "embedding_path = config[\"embedding_path\"]\n",
    "torch_path = config[\"torch_path\"]\n",
    "faiss_path = config[\"faiss_path\"]\n",
    "mapping_path = config[\"mapping_path\"]\n",
    "mapping_data = config[\"mapping_data\"]\n",
    "\n",
    "FILE_TYPE = config[\"FILE_TYPE\"]\n",
    "DATA_KEY = config[\"DATA_KEY\"]\n",
    "EMBE_KEY = config[\"EMBE_KEY\"]\n",
    "SWITCH = config[\"SWITCH\"]\n",
    "EMBEDD_MODEL = config[\"EMBEDD_MODEL\"]\n",
    "SEARCH_EGINE = config[\"SEARCH_EGINE\"]\n",
    "RERANK_MODEL = config[\"RERANK_MODEL\"]\n",
    "RESPON_MODEL = config[\"RESPON_MODEL\"]\n",
    "MERGE = config[\"MERGE\"]\n",
    "API_KEY = config[\"API_KEY\"]\n",
    "\n",
    "WORD_LIMIT = config[\"WORD_LIMIT\"]\n",
    "LEVEL_INPUT = config[\"LEVEL_INPUT\"]\n",
    "LEVEL_VALUES = config[\"LEVEL_VALUES\"]\n",
    "\n",
    "Contents = LEVEL_VALUES[-1] if LEVEL_VALUES else None\n",
    "\n",
    "SEARCH_ENGINE = faiss.IndexFlatIP"
   ]
  },
  {
   "cell_type": "markdown",
   "id": "b9d3dc1f",
   "metadata": {},
   "source": [
    "### Exceptions"
   ]
  },
  {
   "cell_type": "code",
   "execution_count": null,
   "id": "e6f43df5",
   "metadata": {},
   "outputs": [],
   "source": [
    "exceptions_path = \"../tests/ex.exceptions.json\"\n",
    "markers_path = \"../tests/ex.markers.json\"\n",
    "status_path = \"../tests/ex.status.json\""
   ]
  },
  {
   "cell_type": "markdown",
   "id": "d3a6311f",
   "metadata": {},
   "source": [
    "### Extract Data"
   ]
  },
  {
   "cell_type": "code",
   "execution_count": null,
   "id": "b2161b01",
   "metadata": {},
   "outputs": [],
   "source": [
    "dataExtractor = B1.B1Extractor(\n",
    "    exceptions_path, \n",
    "    markers_path, \n",
    "    status_path, \n",
    "    proper_name_min_count=10)\n",
    "\n",
    "extracted_data = dataExtractor.extract(dcmt_path)\n",
    "A2.write_json(extracted_data, extracted_path, indent=1)"
   ]
  },
  {
   "cell_type": "code",
   "execution_count": null,
   "id": "f8ce5773",
   "metadata": {},
   "outputs": [],
   "source": [
    "merged_data = B2.mergeLinesToParagraphs(extracted_data)\n",
    "A2.write_json(merged_data, merged_path, indent=1)"
   ]
  },
  {
   "cell_type": "markdown",
   "id": "d5e77406",
   "metadata": {},
   "source": [
    "### Get Struct"
   ]
  },
  {
   "cell_type": "code",
   "execution_count": null,
   "id": "a7f53bb8",
   "metadata": {},
   "outputs": [],
   "source": [
    "analyzer = B3.StructureAnalyzer(merged_path, verbose=True)"
   ]
  },
  {
   "cell_type": "code",
   "execution_count": null,
   "id": "8eaae68c",
   "metadata": {},
   "outputs": [],
   "source": [
    "def getMarkers():\n",
    "    markers = analyzer.extract_markers()\n",
    "    return markers"
   ]
  },
  {
   "cell_type": "code",
   "execution_count": null,
   "id": "4781d0a7",
   "metadata": {},
   "outputs": [],
   "source": [
    "def getStructures(markers):\n",
    "    structures = analyzer.build_structures(markers)\n",
    "    print(A2.jsonl_convert(structures))\n",
    "    return structures"
   ]
  },
  {
   "cell_type": "code",
   "execution_count": null,
   "id": "1d33a6d5",
   "metadata": {},
   "outputs": [],
   "source": [
    "def getDedup(structures):\n",
    "    dedup = analyzer.deduplicate(structures)\n",
    "    print(A2.jsonl_convert(dedup))\n",
    "    return dedup"
   ]
  },
  {
   "cell_type": "code",
   "execution_count": null,
   "id": "b8d797be",
   "metadata": {},
   "outputs": [],
   "source": [
    "def getTop(dedup):\n",
    "    top = analyzer.select_top(dedup)\n",
    "    topext = analyzer.extend_top(top, dedup)\n",
    "    print(A2.json_convert(topext, pretty=True))\n",
    "    return topext"
   ]
  },
  {
   "cell_type": "code",
   "execution_count": null,
   "id": "e2ae679b",
   "metadata": {},
   "outputs": [],
   "source": [
    "markers = getMarkers()\n",
    "structures = getStructures(markers)\n",
    "dedup = getDedup(structures)\n",
    "topext = getTop(dedup)"
   ]
  },
  {
   "cell_type": "code",
   "execution_count": null,
   "id": "71633dce",
   "metadata": {},
   "outputs": [],
   "source": [
    "A2.write_json(topext, struct_path, indent=2)"
   ]
  },
  {
   "cell_type": "markdown",
   "id": "9fdcb3b2",
   "metadata": {},
   "source": [
    "### Chunks"
   ]
  },
  {
   "cell_type": "code",
   "execution_count": null,
   "id": "d8de44ce",
   "metadata": {},
   "outputs": [],
   "source": [
    "builder = B4.ChunkBuilder(\n",
    "    struct_path=struct_path,\n",
    "    merged_path=merged_path,\n",
    "    output_path=\"Data_HNMU_Regulations_Chunks.json\"\n",
    ")\n",
    "\n",
    "chunks = builder.build()\n",
    "A2.write_json(chunks, chunks_base, indent=2)"
   ]
  }
 ],
 "metadata": {
  "kernelspec": {
   "display_name": "master",
   "language": "python",
   "name": "python3"
  },
  "language_info": {
   "codemirror_mode": {
    "name": "ipython",
    "version": 3
   },
   "file_extension": ".py",
   "mimetype": "text/x-python",
   "name": "python",
   "nbconvert_exporter": "python",
   "pygments_lexer": "ipython3",
   "version": "3.11.13"
  }
 },
 "nbformat": 4,
 "nbformat_minor": 5
}
