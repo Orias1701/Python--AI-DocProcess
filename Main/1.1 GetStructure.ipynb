{
 "cells": [
  {
   "cell_type": "code",
   "execution_count": null,
   "id": "9383186a",
   "metadata": {},
   "outputs": [],
   "source": [
    "from Libraries.B3_GetStructures import StructureAnalyzer\n",
    "from Libraries import A2_MyUtils\n",
    "\n",
    "datafolder = \"HNMU_Regulations\"\n",
    "outputfolder = datafolder + \"_topStruct.json\"\n",
    "\n",
    "if __name__ == \"__main__\":\n",
    "    analyzer = StructureAnalyzer(\n",
    "        datafolder, \n",
    "        verbose=True\n",
    "        )\n",
    "\n",
    "    markers = analyzer.extract_markers()\n",
    "    print(\"=== Markers (JSON) ===\")\n",
    "    print(A2_MyUtils.jsonl_convert([{\"MarkerType\": m} for m in markers]))\n",
    "    print(\"\")\n",
    "\n",
    "    structures = analyzer.build_structures(markers)\n",
    "    print(\"=== Structures (JSONL) ===\")\n",
    "    print(A2_MyUtils.jsonl_convert(structures))\n",
    "    print(\"\")\n",
    "\n",
    "    dedup = analyzer.deduplicate(structures)\n",
    "    print(\"=== Dedup (JSONL) ===\")\n",
    "    print(A2_MyUtils.jsonl_convert(dedup))\n",
    "    print(\"\")\n",
    "\n",
    "    top = analyzer.select_top(dedup)\n",
    "    print(\"=== Top Max Depth (JSON) ===\")\n",
    "    print(A2_MyUtils.json_convert(top, pretty=True))\n",
    "    print(\"\")\n",
    "\n",
    "    analyzer.save_json(top, outputfolder)"
   ]
  }
 ],
 "metadata": {
  "kernelspec": {
   "display_name": "master",
   "language": "python",
   "name": "python3"
  },
  "language_info": {
   "codemirror_mode": {
    "name": "ipython",
    "version": 3
   },
   "file_extension": ".py",
   "mimetype": "text/x-python",
   "name": "python",
   "nbconvert_exporter": "python",
   "pygments_lexer": "ipython3",
   "version": "3.11.13"
  }
 },
 "nbformat": 4,
 "nbformat_minor": 5
}
