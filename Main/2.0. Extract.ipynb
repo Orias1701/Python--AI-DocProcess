{
 "cells": [
  {
   "cell_type": "code",
   "execution_count": null,
   "id": "572860f9",
   "metadata": {},
   "outputs": [],
   "source": [
    "import os\n",
    "import faiss\n",
    "from RAGLibrary import Widgets, Define\n",
    "from RAGLibrary import ExtractData2 as Extract\n",
    "\n",
    "os.environ[\"HF_HUB_DISABLE_SYMLINKS_WARNING\"] = \"1\""
   ]
  },
  {
   "cell_type": "code",
   "execution_count": null,
   "id": "2a90cc9b",
   "metadata": {},
   "outputs": [],
   "source": [
    "widgets_list = Widgets.create_name_form()"
   ]
  },
  {
   "cell_type": "code",
   "execution_count": null,
   "id": "f3890ebe",
   "metadata": {},
   "outputs": [],
   "source": [
    "config = Define.WidgetValues(widgets_list)\n",
    "\n",
    "data_foler = config[\"data_folder\"]\n",
    "dcmt_path = config[\"dcmt_path\"]\n",
    "base_folder = config[\"base_folder\"]\n",
    "base_path = config[\"base_path\"]\n",
    "chunks_base = config[\"chunks_base\"]\n",
    "json_file_path = config[\"json_file_path\"]\n",
    "schema_ex_path = config[\"schema_ex_path\"]\n",
    "embedding_path = config[\"embedding_path\"]\n",
    "torch_path = config[\"torch_path\"]\n",
    "faiss_path = config[\"faiss_path\"]\n",
    "mapping_path = config[\"mapping_path\"]\n",
    "mapping_data = config[\"mapping_data\"]\n",
    "\n",
    "FILE_TYPE = config[\"FILE_TYPE\"]\n",
    "DATA_KEY = config[\"DATA_KEY\"]\n",
    "EMBE_KEY = config[\"EMBE_KEY\"]\n",
    "SWITCH = config[\"SWITCH\"]\n",
    "EMBEDD_MODEL = config[\"EMBEDD_MODEL\"]\n",
    "SEARCH_EGINE = config[\"SEARCH_EGINE\"]\n",
    "RERANK_MODEL = config[\"RERANK_MODEL\"]\n",
    "RESPON_MODEL = config[\"RESPON_MODEL\"]\n",
    "MERGE = config[\"MERGE\"]\n",
    "API_KEY = config[\"API_KEY\"]\n",
    "\n",
    "WORD_LIMIT = config[\"WORD_LIMIT\"]\n",
    "LEVEL_INPUT = config[\"LEVEL_INPUT\"]\n",
    "LEVEL_VALUES = config[\"LEVEL_VALUES\"]\n",
    "\n",
    "SEARCH_ENGINE = faiss.IndexFlatIP"
   ]
  },
  {
   "cell_type": "code",
   "execution_count": null,
   "id": "f62b4aa6",
   "metadata": {},
   "outputs": [],
   "source": [
    "path = dcmt_path\n",
    "Contents = LEVEL_VALUES[-1] if LEVEL_VALUES else None\n",
    "print(Contents)"
   ]
  },
  {
   "cell_type": "code",
   "execution_count": null,
   "id": "e6f43df5",
   "metadata": {},
   "outputs": [],
   "source": [
    "# EXTRACT DATA\n",
    "exceptions_path = \"4.0. exceptions.json\"\n",
    "patterns_path = \"4.0. patterns.json\"\n",
    "text_data = Extract.extract_and_analyze(dcmt_path, exceptions_path, patterns_path)\n",
    "text_data"
   ]
  },
  {
   "cell_type": "code",
   "execution_count": null,
   "id": "9d92f956",
   "metadata": {},
   "outputs": [],
   "source": [
    "import json\n",
    "extract_path = data_foler + \"_extract.json\"\n",
    "with open(extract_path, \"w\", encoding=\"utf-8\") as json_file:\n",
    "    json.dump(text_data, json_file, indent=2, ensure_ascii=False)\n",
    "\n",
    "print(f\"Đã xuất dữ liệu ra {extract_path}\")"
   ]
  }
 ],
 "metadata": {
  "kernelspec": {
   "display_name": "rag",
   "language": "python",
   "name": "python3"
  },
  "language_info": {
   "codemirror_mode": {
    "name": "ipython",
    "version": 3
   },
   "file_extension": ".py",
   "mimetype": "text/x-python",
   "name": "python",
   "nbconvert_exporter": "python",
   "pygments_lexer": "ipython3",
   "version": "3.12.9"
  }
 },
 "nbformat": 4,
 "nbformat_minor": 5
}
