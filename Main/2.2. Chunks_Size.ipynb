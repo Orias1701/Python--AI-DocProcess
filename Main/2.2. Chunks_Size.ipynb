{
  "cells": [
    {
      "cell_type": "code",
      "execution_count": null,
      "metadata": {},
      "outputs": [],
      "source": [
        "import os\n",
        "import json\n",
        "import spacy\n",
        "import faiss\n",
        "from RAGLibrary import Widgets, SegmentChunks\n",
        "\n",
        "os.environ[\"HF_HUB_DISABLE_SYMLINKS_WARNING\"] = \"1\""
      ]
    },
    {
      "cell_type": "code",
      "execution_count": null,
      "metadata": {},
      "outputs": [],
      "source": [
        "exceptions = {\n",
        "    \"a\", \"an\", \"the\",\n",
        "    \"and\", \"but\", \"or\", \"nor\", \"for\", \"so\", \"yet\",\n",
        "    \"at\", \"by\", \"in\", \"of\", \"on\", \"to\", \"from\", \"with\", \"as\",\n",
        "    \"into\", \"like\", \"over\", \"under\", \"up\", \"down\", \"out\", \"upon\", \"onto\",  \n",
        "    \"amid\", \"among\", \"between\", \"before\", \"after\", \"against\"  \n",
        "}"
      ]
    },
    {
      "cell_type": "code",
      "execution_count": null,
      "metadata": {},
      "outputs": [],
      "source": [
        "widgets_list = Widgets.create_name_form()"
      ]
    },
    {
      "cell_type": "code",
      "execution_count": null,
      "metadata": {},
      "outputs": [],
      "source": [
        "\"\"\" DEFINE \"\"\"\n",
        "\n",
        "\"\"\" GET PARENT VALUE \"\"\"\n",
        "data   = widgets_list[0] #HBox 1\n",
        "keys   = widgets_list[1] #HBox 2\n",
        "choose = widgets_list[2] #HBox 3\n",
        "\n",
        "embedd_model = widgets_list[3]\n",
        "search_egine = widgets_list[4]\n",
        "rerank_model = widgets_list[5]\n",
        "respon_model = widgets_list[6]\n",
        "API_drop     = widgets_list[7]\n",
        "\n",
        "# Hbox 4\n",
        "chunk_input = widgets_list[8]\n",
        "\n",
        "# HBox 5\n",
        "level_value = widgets_list[9]\n",
        "\n",
        "# Button\n",
        "button_box  = widgets_list[10]\n",
        "\n",
        "\n",
        "\"\"\" GET CHILDREN VALUE \"\"\"\n",
        "\n",
        "# HBox 1\n",
        "file_name = data.children[0]\n",
        "file_type = data.children[1]\n",
        "path_end  = data.children[2]\n",
        "\n",
        "# HBox 2\n",
        "data_key = keys.children[0]\n",
        "embe_key = keys.children[1]\n",
        "\n",
        "# HBox 3\n",
        "switch_model = choose.children[0]\n",
        "merge_otp    = choose.children[1]\n",
        "\n",
        "# HBox 4\n",
        "level_input = chunk_input.children[0]\n",
        "word_limit  = chunk_input.children[1]\n",
        "\n",
        "# HBox 5\n",
        "level_values = [child.value for child in level_value.children]\n",
        "\n",
        "\"\"\" DEF VALUE \"\"\"\n",
        "\n",
        "# Get value\n",
        "data_folder   = file_name.value\n",
        "file_type_val = file_type.value\n",
        "\n",
        "data_key_val  = data_key.value\n",
        "embe_key_val  = embe_key.value\n",
        "\n",
        "API_key_val = API_drop.value\n",
        "switch      = switch_model.value\n",
        "merge       = merge_otp.value\n",
        "path_end_v  = path_end.value\n",
        "\n",
        "embedding_model = embedd_model.value\n",
        "searching_egine = search_egine.value\n",
        "reranking_model = rerank_model.value\n",
        "responing_model = respon_model.value\n",
        "\n",
        "level_input_val = level_input.value\n",
        "word_limit_val  = word_limit.value\n",
        "\n",
        "\n",
        "\"\"\" DETAIL \"\"\"\n",
        "\n",
        "# Define\n",
        "dcmt_path = f\"../Doc/{data_folder}{path_end_v}\"\n",
        "\n",
        "base_folder = \"../Data\"\n",
        "base_path = f\"{base_folder}/{data_folder}/{file_type_val}_{data_folder}\"\n",
        "\n",
        "chunks_base    = f\"{base_path}_Chunks.json\"\n",
        "json_file_path = f\"{base_path}_Database.json\"\n",
        "schema_ex_path = f\"{base_path}_Schema.json\"\n",
        "embedding_path = f\"{base_path}_Embeds_{merge}\"\n",
        "\n",
        "torch_path  = f\"{embedding_path}.pt\"\n",
        "faiss_path  = f\"{embedding_path}.faiss\"\n",
        "mapping_path = f\"{embedding_path}_mapping.json\"\n",
        "mapping_data = f\"{embedding_path}_map_data.json\"\n",
        "\n",
        "FILE_TYPE    = file_type_val\n",
        "DATA_KEY     = data_key_val\n",
        "EMBE_KEY     = embe_key_val\n",
        "SWITCH       = switch\n",
        "EMBEDD_MODEL = embedding_model\n",
        "SEARCH_EGINE = searching_egine\n",
        "RERANK_MODEL = reranking_model\n",
        "RESPON_MODEL = responing_model\n",
        "\n",
        "if FILE_TYPE == \"Data\":\n",
        "    MERGE = merge\n",
        "else: \n",
        "    MERGE = \"no_Merge\"\n",
        "\n",
        "API_KEY = API_key_val\n",
        "\n",
        "SEARCH_ENGINE = faiss.IndexFlatIP\n",
        "\n",
        "print(\"\\n\")\n",
        "print(f\"Embedder: {EMBEDD_MODEL}\")\n",
        "print(f\"Searcher: {SEARCH_EGINE}\")\n",
        "print(f\"Reranker: {RERANK_MODEL}\")\n",
        "print(f\"Responer: {RESPON_MODEL}\")\n",
        "print(f\"Data Key: {DATA_KEY}\")\n",
        "print(f\"Embe Key: {EMBE_KEY}\")\n",
        "print(f\"Dcment  : {dcmt_path}\")\n",
        "print(f\"Chunked : {chunks_base}\")\n",
        "print(f\"Database: {json_file_path}\")\n",
        "print(f\"Torch   : {torch_path}\")\n",
        "print(f\"Faiss   : {faiss_path}\")\n",
        "print(f\"Mapping : {mapping_path}\")\n",
        "print(f\"Map Data: {mapping_data}\")\n",
        "print(f\"Schema  : {schema_ex_path}\")\n",
        "print(f\"Model   : {SWITCH}\")\n",
        "print(f\"Merge   : {MERGE}\")\n",
        "print(f\"API Key : {API_KEY}\")\n",
        "print(f\"Word    : {word_limit_val}\")\n",
        "print(f\"Level   : {level_input_val}\")\n",
        "print(f\"Level Values: {level_values}\")"
      ]
    },
    {
      "cell_type": "markdown",
      "metadata": {},
      "source": [
        "BASE\n"
      ]
    },
    {
      "cell_type": "code",
      "execution_count": null,
      "metadata": {},
      "outputs": [],
      "source": [
        "# FORMAT TEXT\n",
        "def format_text(text, case=\"upper\"):\n",
        "    if case == \"upper\":\n",
        "        return text.upper()\n",
        "    elif case == \"Chapter\":\n",
        "        return ' '.join(word.capitalize() if word.lower() not in exceptions else word.lower() for word in text.split())\n",
        "    return text"
      ]
    },
    {
      "cell_type": "code",
      "execution_count": null,
      "metadata": {},
      "outputs": [],
      "source": [
        "# SIZE OF Chapter AND Title\n",
        "def find_sizes(text_data):\n",
        "    Chapter_size, sub_size = 0, 0\n",
        "    \n",
        "    for entry in text_data:\n",
        "        text, font_size = entry[\"text\"], entry[\"font_size\"]\n",
        "        if text.isupper():\n",
        "            Chapter_size = max(Chapter_size, font_size)\n",
        "        else:\n",
        "            sub_size = max(sub_size, font_size)\n",
        "    return Chapter_size, sub_size"
      ]
    },
    {
      "cell_type": "code",
      "execution_count": null,
      "metadata": {},
      "outputs": [],
      "source": [
        "# ADD CHUNKS\n",
        "def add_chunk(chunks, content):\n",
        "    if content[\"Content\"]:\n",
        "        chunks.append(content.copy())\n",
        "        content[\"Content\"] = []"
      ]
    },
    {
      "cell_type": "code",
      "execution_count": null,
      "metadata": {},
      "outputs": [],
      "source": [
        "# MAIN FUNCTION\n",
        "def main(text_data, Chapter_size, sub_size):\n",
        "    chunks = []\n",
        "    content = {\"Chapter\": None, \"Title\": None, \"Article\": None, \"Content\": []}\n",
        "\n",
        "    for entry in text_data:\n",
        "        text, font_size = entry[\"text\"], entry[\"font_size\"]\n",
        "        if not text:\n",
        "            continue\n",
        "        if text.isupper():\n",
        "            if font_size == Chapter_size:\n",
        "                add_chunk(chunks, content)\n",
        "                content[\"Chapter\"] = format_text(text, \"upper\")\n",
        "                content[\"Title\"] = None\n",
        "                content[\"Article\"] = None\n",
        "            else:\n",
        "                add_chunk(chunks, content)\n",
        "                content[\"Article\"] = format_text(text, \"upper\")\n",
        "        else:\n",
        "            if font_size == sub_size:\n",
        "                add_chunk(chunks, content)\n",
        "                content[\"Title\"] = format_text(text, \"Chapter\")\n",
        "                content[\"Article\"] = None\n",
        "            else:\n",
        "                if content[\"Content\"]:\n",
        "                    last_sentence = content[\"Content\"][-1]\n",
        "                    if not last_sentence.endswith((\".\", \"!\", \"?\")):\n",
        "                        content[\"Content\"][-1] += \" \" + text\n",
        "                    else:\n",
        "                        content[\"Content\"].append(text)\n",
        "                else:\n",
        "                    content[\"Content\"].append(text)\n",
        "    \n",
        "    add_chunk(chunks, content)\n",
        "    return chunks"
      ]
    },
    {
      "cell_type": "code",
      "execution_count": null,
      "metadata": {},
      "outputs": [],
      "source": [
        "# CHUNKS BASE\n",
        "text_data = ExtractData.extracted(dcmt_path)\n",
        "Chapter_size, sub_size = find_sizes(text_data)\n",
        "chunks = main(text_data, Chapter_size, sub_size)"
      ]
    },
    {
      "cell_type": "code",
      "execution_count": null,
      "metadata": {},
      "outputs": [],
      "source": [
        "# EXPORT BASE\n",
        "with open(chunks_base, \"w\", encoding=\"utf-8\") as f:\n",
        "    json.dump(chunks, f, indent=4, ensure_ascii=False)\n",
        "\n",
        "print(f\"Base data saved to {chunks_base}\")"
      ]
    },
    {
      "cell_type": "markdown",
      "metadata": {},
      "source": [
        "FINAL\n"
      ]
    },
    {
      "cell_type": "code",
      "execution_count": null,
      "metadata": {},
      "outputs": [],
      "source": [
        "nlp = spacy.load(\"en_core_web_sm\")\n",
        "WORD_LIMIT = int(word_input.value) if word_input.value.isdigit() else 200"
      ]
    },
    {
      "cell_type": "code",
      "execution_count": null,
      "metadata": {},
      "outputs": [],
      "source": [
        "SegmentChunks.process_json(chunks_base, json_file_path, Contents, word_limit, markers, nlp)"
      ]
    }
  ],
  "metadata": {
    "kernelspec": {
      "display_name": "rag",
      "language": "python",
      "name": "python3"
    },
    "language_info": {
      "codemirror_mode": {
        "name": "ipython",
        "version": 3
      },
      "file_extension": ".py",
      "mimetype": "text/x-python",
      "name": "python",
      "nbconvert_exporter": "python",
      "pygments_lexer": "ipython3",
      "version": "3.12.9"
    }
  },
  "nbformat": 4,
  "nbformat_minor": 2
}
