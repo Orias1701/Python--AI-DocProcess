{
  "cells": [
    {
      "cell_type": "code",
      "execution_count": null,
      "metadata": {},
      "outputs": [],
      "source": [
        "import os\n",
        "import json\n",
        "import spacy\n",
        "import faiss\n",
        "from RAGLibrary import Widgets, Define\n",
        "from RAGLibrary import SegmentChunks\n",
        "from RAGLibrary import ExtractData2 as Extract\n",
        "\n",
        "os.environ[\"HF_HUB_DISABLE_SYMLINKS_WARNING\"] = \"1\""
      ]
    },
    {
      "cell_type": "code",
      "execution_count": null,
      "metadata": {},
      "outputs": [],
      "source": [
        "exceptions = {\n",
        "    \"a\", \"an\", \"the\",\n",
        "    \"and\", \"but\", \"or\", \"nor\", \"for\", \"so\", \"yet\",\n",
        "    \"at\", \"by\", \"in\", \"of\", \"on\", \"to\", \"from\", \"with\", \"as\",\n",
        "    \"into\", \"like\", \"over\", \"under\", \"up\", \"down\", \"out\", \"upon\", \"onto\",  \n",
        "    \"amid\", \"among\", \"between\", \"before\", \"after\", \"against\"  \n",
        "}"
      ]
    },
    {
      "cell_type": "code",
      "execution_count": null,
      "metadata": {},
      "outputs": [],
      "source": [
        "widgets_list = Widgets.create_name_form()"
      ]
    },
    {
      "cell_type": "code",
      "execution_count": null,
      "metadata": {},
      "outputs": [],
      "source": [
        "config = Define.WidgetValues(widgets_list)\n",
        "\n",
        "data_foler = config[\"data_folder\"]\n",
        "dcmt_path = config[\"dcmt_path\"]\n",
        "base_folder = config[\"base_folder\"]\n",
        "base_path = config[\"base_path\"]\n",
        "chunks_base = config[\"chunks_base\"]\n",
        "json_file_path = config[\"json_file_path\"]\n",
        "schema_ex_path = config[\"schema_ex_path\"]\n",
        "embedding_path = config[\"embedding_path\"]\n",
        "torch_path = config[\"torch_path\"]\n",
        "faiss_path = config[\"faiss_path\"]\n",
        "mapping_path = config[\"mapping_path\"]\n",
        "mapping_data = config[\"mapping_data\"]\n",
        "\n",
        "FILE_TYPE = config[\"FILE_TYPE\"]\n",
        "DATA_KEY = config[\"DATA_KEY\"]\n",
        "EMBE_KEY = config[\"EMBE_KEY\"]\n",
        "SWITCH = config[\"SWITCH\"]\n",
        "EMBEDD_MODEL = config[\"EMBEDD_MODEL\"]\n",
        "SEARCH_EGINE = config[\"SEARCH_EGINE\"]\n",
        "RERANK_MODEL = config[\"RERANK_MODEL\"]\n",
        "RESPON_MODEL = config[\"RESPON_MODEL\"]\n",
        "MERGE = config[\"MERGE\"]\n",
        "API_KEY = config[\"API_KEY\"]\n",
        "\n",
        "WORD_LIMIT = config[\"WORD_LIMIT\"]\n",
        "LEVEL_INPUT = config[\"LEVEL_INPUT\"]\n",
        "LEVEL_VALUES = config[\"LEVEL_VALUES\"]\n",
        "\n",
        "SEARCH_ENGINE = faiss.IndexFlatIP"
      ]
    },
    {
      "cell_type": "code",
      "execution_count": null,
      "metadata": {},
      "outputs": [],
      "source": [
        "path = dcmt_path\n",
        "Contents = LEVEL_VALUES[-1] if LEVEL_VALUES else None\n",
        "print(Contents)"
      ]
    },
    {
      "cell_type": "code",
      "execution_count": null,
      "metadata": {},
      "outputs": [],
      "source": [
        "# EXTRACT DATA\n",
        "text_data = Extract.extracted(dcmt_path)\n",
        "text_data"
      ]
    },
    {
      "cell_type": "markdown",
      "metadata": {},
      "source": [
        "BASE\n"
      ]
    },
    {
      "cell_type": "code",
      "execution_count": null,
      "metadata": {},
      "outputs": [],
      "source": [
        "# FORMAT TEXT\n",
        "def format_text(text, case=\"upper\"):\n",
        "    if case == \"upper\":\n",
        "        return text.upper()\n",
        "    elif case == \"Chapter\":\n",
        "        return ' '.join(word.capitalize() if word.lower() not in exceptions else word.lower() for word in text.split())\n",
        "    return text"
      ]
    },
    {
      "cell_type": "code",
      "execution_count": null,
      "metadata": {},
      "outputs": [],
      "source": [
        "# SIZE OF Chapter AND Title\n",
        "def find_sizes(text_data):\n",
        "    Chapter_size, sub_size = 0, 0\n",
        "    \n",
        "    for entry in text_data:\n",
        "        text, font_size = entry[\"text\"], entry[\"font_size\"]\n",
        "        if text.isupper():\n",
        "            Chapter_size = max(Chapter_size, font_size)\n",
        "        else:\n",
        "            sub_size = max(sub_size, font_size)\n",
        "    return Chapter_size, sub_size"
      ]
    },
    {
      "cell_type": "code",
      "execution_count": null,
      "metadata": {},
      "outputs": [],
      "source": [
        "# ADD CHUNKS\n",
        "def add_chunk(chunks, content):\n",
        "    if content[Contents]:\n",
        "        chunks.append(content.copy())\n",
        "        content[Contents] = []"
      ]
    },
    {
      "cell_type": "code",
      "execution_count": null,
      "metadata": {},
      "outputs": [],
      "source": [
        "# MAIN FUNCTION\n",
        "def main(text_data, Chapter_size, sub_size):\n",
        "    chunks = []\n",
        "    content = {\"Chapter\": None, \"Title\": None, \"Article\": None, Contents: []}\n",
        "\n",
        "    for entry in text_data:\n",
        "        text, font_size = entry[\"text\"], entry[\"font_size\"]\n",
        "        if not text:\n",
        "            continue\n",
        "        if text.isupper():\n",
        "            if font_size == Chapter_size:\n",
        "                add_chunk(chunks, content)\n",
        "                content[\"Chapter\"] = format_text(text, \"upper\")\n",
        "                content[\"Title\"] = None\n",
        "                content[\"Article\"] = None\n",
        "            else:\n",
        "                add_chunk(chunks, content)\n",
        "                content[\"Article\"] = format_text(text, \"upper\")\n",
        "        else:\n",
        "            if font_size == sub_size:\n",
        "                add_chunk(chunks, content)\n",
        "                content[\"Title\"] = format_text(text, \"Chapter\")\n",
        "                content[\"Article\"] = None\n",
        "            else:\n",
        "                if content[Contents]:\n",
        "                    last_sentence = content[Contents][-1]\n",
        "                    if not last_sentence.endswith((\".\", \"!\", \"?\")):\n",
        "                        content[Contents][-1] += \" \" + text\n",
        "                    else:\n",
        "                        content[Contents].append(text)\n",
        "                else:\n",
        "                    content[Contents].append(text)\n",
        "    \n",
        "    add_chunk(chunks, content)\n",
        "    return chunks"
      ]
    },
    {
      "cell_type": "code",
      "execution_count": null,
      "metadata": {},
      "outputs": [],
      "source": [
        "# CHUNKS BASE\n",
        "Chapter_size, sub_size = find_sizes(text_data)\n",
        "chunks = main(text_data, Chapter_size, sub_size)"
      ]
    },
    {
      "cell_type": "code",
      "execution_count": null,
      "metadata": {},
      "outputs": [],
      "source": [
        "# EXPORT BASE\n",
        "with open(chunks_base, \"w\", encoding=\"utf-8\") as f:\n",
        "    json.dump(chunks, f, indent=4, ensure_ascii=False)\n",
        "\n",
        "print(f\"Base data saved to {chunks_base}\")"
      ]
    },
    {
      "cell_type": "markdown",
      "metadata": {},
      "source": [
        "FINAL\n"
      ]
    },
    {
      "cell_type": "code",
      "execution_count": null,
      "metadata": {},
      "outputs": [],
      "source": [
        "nlp = spacy.load(\"en_core_web_sm\")"
      ]
    },
    {
      "cell_type": "code",
      "execution_count": null,
      "metadata": {},
      "outputs": [],
      "source": [
        "SegmentChunks.process_json(chunks_base, json_file_path, Contents, WORD_LIMIT, nlp)"
      ]
    }
  ],
  "metadata": {
    "kernelspec": {
      "display_name": "rag",
      "language": "python",
      "name": "python3"
    },
    "language_info": {
      "codemirror_mode": {
        "name": "ipython",
        "version": 3
      },
      "file_extension": ".py",
      "mimetype": "text/x-python",
      "name": "python",
      "nbconvert_exporter": "python",
      "pygments_lexer": "ipython3",
      "version": "3.12.9"
    }
  },
  "nbformat": 4,
  "nbformat_minor": 2
}
