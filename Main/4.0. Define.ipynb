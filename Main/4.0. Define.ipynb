{
 "cells": [
  {
   "cell_type": "code",
   "execution_count": 2,
   "id": "133581e7",
   "metadata": {},
   "outputs": [
    {
     "ename": "OSError",
     "evalue": "[WinError 126] The specified module could not be found. Error loading \"c:\\Users\\Orias.ASUS\\Documents\\Code\\4. Python\\.venv\\Lib\\site-packages\\torch\\lib\\torch_python.dll\" or one of its dependencies.",
     "output_type": "error",
     "traceback": [
      "\u001b[1;31m---------------------------------------------------------------------------\u001b[0m",
      "\u001b[1;31mOSError\u001b[0m                                   Traceback (most recent call last)",
      "Cell \u001b[1;32mIn[2], line 2\u001b[0m\n\u001b[0;32m      1\u001b[0m \u001b[38;5;28;01mimport\u001b[39;00m\u001b[38;5;250m \u001b[39m\u001b[38;5;21;01mos\u001b[39;00m\n\u001b[1;32m----> 2\u001b[0m \u001b[38;5;28;01mimport\u001b[39;00m\u001b[38;5;250m \u001b[39m\u001b[38;5;21;01mtorch\u001b[39;00m\n\u001b[0;32m      3\u001b[0m \u001b[38;5;28;01mimport\u001b[39;00m\u001b[38;5;250m \u001b[39m\u001b[38;5;21;01mfaiss\u001b[39;00m\n\u001b[0;32m      4\u001b[0m \u001b[38;5;28;01mimport\u001b[39;00m\u001b[38;5;250m \u001b[39m\u001b[38;5;21;01mlogging\u001b[39;00m\n",
      "File \u001b[1;32mc:\\Users\\Orias.ASUS\\Documents\\Code\\4. Python\\.venv\\Lib\\site-packages\\torch\\__init__.py:262\u001b[0m\n\u001b[0;32m    258\u001b[0m                     \u001b[38;5;28;01mraise\u001b[39;00m err\n\u001b[0;32m    260\u001b[0m         kernel32\u001b[38;5;241m.\u001b[39mSetErrorMode(prev_error_mode)\n\u001b[1;32m--> 262\u001b[0m     \u001b[43m_load_dll_libraries\u001b[49m\u001b[43m(\u001b[49m\u001b[43m)\u001b[49m\n\u001b[0;32m    263\u001b[0m     \u001b[38;5;28;01mdel\u001b[39;00m _load_dll_libraries\n\u001b[0;32m    266\u001b[0m \u001b[38;5;28;01mdef\u001b[39;00m\u001b[38;5;250m \u001b[39m\u001b[38;5;21m_preload_cuda_deps\u001b[39m(lib_folder: \u001b[38;5;28mstr\u001b[39m, lib_name: \u001b[38;5;28mstr\u001b[39m) \u001b[38;5;241m-\u001b[39m\u001b[38;5;241m>\u001b[39m \u001b[38;5;28;01mNone\u001b[39;00m:\n",
      "File \u001b[1;32mc:\\Users\\Orias.ASUS\\Documents\\Code\\4. Python\\.venv\\Lib\\site-packages\\torch\\__init__.py:258\u001b[0m, in \u001b[0;36m_load_dll_libraries\u001b[1;34m()\u001b[0m\n\u001b[0;32m    254\u001b[0m             err \u001b[38;5;241m=\u001b[39m ctypes\u001b[38;5;241m.\u001b[39mWinError(ctypes\u001b[38;5;241m.\u001b[39mget_last_error())\n\u001b[0;32m    255\u001b[0m             err\u001b[38;5;241m.\u001b[39mstrerror \u001b[38;5;241m+\u001b[39m\u001b[38;5;241m=\u001b[39m (\n\u001b[0;32m    256\u001b[0m                 \u001b[38;5;124mf\u001b[39m\u001b[38;5;124m'\u001b[39m\u001b[38;5;124m Error loading \u001b[39m\u001b[38;5;124m\"\u001b[39m\u001b[38;5;132;01m{\u001b[39;00mdll\u001b[38;5;132;01m}\u001b[39;00m\u001b[38;5;124m\"\u001b[39m\u001b[38;5;124m or one of its dependencies.\u001b[39m\u001b[38;5;124m'\u001b[39m\n\u001b[0;32m    257\u001b[0m             )\n\u001b[1;32m--> 258\u001b[0m             \u001b[38;5;28;01mraise\u001b[39;00m err\n\u001b[0;32m    260\u001b[0m kernel32\u001b[38;5;241m.\u001b[39mSetErrorMode(prev_error_mode)\n",
      "\u001b[1;31mOSError\u001b[0m: [WinError 126] The specified module could not be found. Error loading \"c:\\Users\\Orias.ASUS\\Documents\\Code\\4. Python\\.venv\\Lib\\site-packages\\torch\\lib\\torch_python.dll\" or one of its dependencies."
     ]
    }
   ],
   "source": [
    "import os\n",
    "import torch\n",
    "import faiss\n",
    "import logging\n",
    "from transformers import AutoTokenizer, AutoModel\n",
    "from sentence_transformers import SentenceTransformer\n",
    "from RAGLibrary import Widgets\n",
    "from RAGLibrary import CheckConstruct, CreateSchema, FaissConvert, Embedding, Search, Rerank, Respond"
   ]
  },
  {
   "cell_type": "code",
   "execution_count": null,
   "id": "84a8e42c",
   "metadata": {},
   "outputs": [
    {
     "data": {
      "application/vnd.jupyter.widget-view+json": {
       "model_id": "d0a64ff7e68c46529baf4d57727d13d6",
       "version_major": 2,
       "version_minor": 0
      },
      "text/plain": [
       "HBox(children=(Dropdown(description='File:  ', index=1, layout=Layout(width='50%'), options=('Harvard_Regulati…"
      ]
     },
     "metadata": {},
     "output_type": "display_data"
    },
    {
     "data": {
      "application/vnd.jupyter.widget-view+json": {
       "model_id": "885379dbc54146ad87116a5b6bd38eff",
       "version_major": 2,
       "version_minor": 0
      },
      "text/plain": [
       "HBox(children=(Text(value='contents', description='Data Key: ', layout=Layout(width='50%'), placeholder='Defau…"
      ]
     },
     "metadata": {},
     "output_type": "display_data"
    },
    {
     "data": {
      "application/vnd.jupyter.widget-view+json": {
       "model_id": "8673fe4c89f944f79f4bfdd3d13d5775",
       "version_major": 2,
       "version_minor": 0
      },
      "text/plain": [
       "HBox(children=(Dropdown(description='Model: ', index=1, layout=Layout(width='33%'), options=('Auto Model', 'Se…"
      ]
     },
     "metadata": {},
     "output_type": "display_data"
    },
    {
     "data": {
      "application/vnd.jupyter.widget-view+json": {
       "model_id": "bdfcaa66f38245d4bcdd58b3f5112179",
       "version_major": 2,
       "version_minor": 0
      },
      "text/plain": [
       "Dropdown(description='Embedder: ', index=1, layout=Layout(width='90%'), options=('sentence-transformers/bge-sm…"
      ]
     },
     "metadata": {},
     "output_type": "display_data"
    },
    {
     "data": {
      "application/vnd.jupyter.widget-view+json": {
       "model_id": "b00029321b6a4130adfcbd3d3f101154",
       "version_major": 2,
       "version_minor": 0
      },
      "text/plain": [
       "Dropdown(description='Searcher: ', index=1, layout=Layout(width='90%'), options=('faiss.IndexHNSWFlat', 'faiss…"
      ]
     },
     "metadata": {},
     "output_type": "display_data"
    },
    {
     "data": {
      "application/vnd.jupyter.widget-view+json": {
       "model_id": "b40bfe67c8da4febb1dc7dcd997654ae",
       "version_major": 2,
       "version_minor": 0
      },
      "text/plain": [
       "Dropdown(description='Reranker: ', layout=Layout(width='90%'), options=('BAAI/bge-reranker-base',), value='BAA…"
      ]
     },
     "metadata": {},
     "output_type": "display_data"
    },
    {
     "data": {
      "application/vnd.jupyter.widget-view+json": {
       "model_id": "d1536564a0ea41939b1b58774b077549",
       "version_major": 2,
       "version_minor": 0
      },
      "text/plain": [
       "Dropdown(description='Response: ', layout=Layout(width='90%'), options=('gemini-2.0-flash-exp', 'vinai/PhoGPT-…"
      ]
     },
     "metadata": {},
     "output_type": "display_data"
    },
    {
     "data": {
      "application/vnd.jupyter.widget-view+json": {
       "model_id": "996df1808eff49549c618c337d4821e4",
       "version_major": 2,
       "version_minor": 0
      },
      "text/plain": [
       "Dropdown(description='API Key:', index=4, layout=Layout(width='90%'), options=('AIzaSyDaHS-8h6GJkyVPhoX4svvYeB…"
      ]
     },
     "metadata": {},
     "output_type": "display_data"
    },
    {
     "data": {
      "application/vnd.jupyter.widget-view+json": {
       "model_id": "50e799e17ad442b69190a3ae71e9b183",
       "version_major": 2,
       "version_minor": 0
      },
      "text/plain": [
       "HBox(children=(Button(button_style='success', description='Save State', style=ButtonStyle()), Button(button_st…"
      ]
     },
     "metadata": {},
     "output_type": "display_data"
    }
   ],
   "source": [
    "widgets_list = Widgets.create_name_form()"
   ]
  },
  {
   "cell_type": "code",
   "execution_count": null,
   "id": "2337c650",
   "metadata": {},
   "outputs": [],
   "source": [
    "logging.basicConfig(level=logging.INFO, format='%(asctime)s - %(levelname)s - %(message)s')\n",
    "os.environ[\"HF_HUB_DISABLE_SYMLINKS_WARNING\"] = \"1\"\n",
    "force_download = True"
   ]
  },
  {
   "cell_type": "code",
   "execution_count": null,
   "id": "fd3a9469",
   "metadata": {},
   "outputs": [],
   "source": [
    "\"\"\" DEFINE \"\"\"\n",
    "\n",
    "data   = widgets_list[0] #HBox 1\n",
    "keys   = widgets_list[1] #HBox 2\n",
    "choose = widgets_list[2] #HBox 3\n",
    "\n",
    "embedd_model = widgets_list[3]\n",
    "search_egine = widgets_list[4]\n",
    "rerank_model = widgets_list[5]\n",
    "respon_model = widgets_list[6]\n",
    "API_drop     = widgets_list[7]\n",
    "button_box   = widgets_list[8]\n",
    "\n",
    "# HBox 1\n",
    "file_name = data.children[0]\n",
    "file_type = data.children[1]\n",
    "\n",
    "# HBox 2\n",
    "data_key = keys.children[0]\n",
    "embe_key = keys.children[1]\n",
    "\n",
    "# HBox 3\n",
    "switch_model = choose.children[0]\n",
    "merge_otp    = choose.children[1]\n",
    "path_end_val = choose.children[1]\n",
    "\n",
    "# Get value\n",
    "data_folder   = file_name.value\n",
    "file_type_val = file_type.value\n",
    "\n",
    "data_key_val  = data_key.value\n",
    "embe_key_val  = embe_key.value\n",
    "\n",
    "API_key_val = API_drop.value\n",
    "switch      = switch_model.value\n",
    "merge       = merge_otp.value\n",
    "path_end    = path_end_val.value\n",
    "\n",
    "embedding_model = embedd_model.value\n",
    "searching_egine = search_egine.value\n",
    "reranking_model = rerank_model.value\n",
    "responing_model = respon_model.value\n",
    "\n",
    "\n",
    "# Define\n",
    "base_path = f\"../Data/{data_folder}/{file_type_val}_{data_folder}\"\n",
    "\n",
    "json_file_path = f\"{base_path}_Database.json\"\n",
    "schema_ex_path = f\"{base_path}_Schema.json\"\n",
    "embedding_path = f\"{base_path}_Embeds_{merge}\"\n",
    "\n",
    "torch_path  = f\"{embedding_path}.pt\"\n",
    "faiss_path  = f\"{embedding_path}.faiss\"\n",
    "mapping_path = f\"{embedding_path}_mapping.json\"\n",
    "mapping_data = f\"{embedding_path}_map_data.json\"\n",
    "\n",
    "FILE_TYPE    = file_type_val\n",
    "DATA_KEY     = data_key_val\n",
    "EMBE_KEY     = embe_key_val\n",
    "SWITCH       = switch\n",
    "EMBEDD_MODEL = embedding_model\n",
    "SEARCH_EGINE = searching_egine\n",
    "RERANK_MODEL = reranking_model\n",
    "RESPON_MODEL = responing_model\n",
    "\n",
    "if FILE_TYPE == \"Data\":\n",
    "    MERGE = merge\n",
    "else: \n",
    "    MERGE = \"no_Merge\"\n",
    "\n",
    "API_KEY = API_key_val\n",
    "\n",
    "SEARCH_ENGINE = faiss.IndexFlatIP\n",
    "\n",
    "print(\"\\n\")\n",
    "print(f\"Embedder: {EMBEDD_MODEL}\")\n",
    "print(f\"Searcher: {SEARCH_EGINE}\")\n",
    "print(f\"Reranker: {RERANK_MODEL}\")\n",
    "print(f\"Responer: {RESPON_MODEL}\")\n",
    "print(f\"Data Key: {DATA_KEY}\")\n",
    "print(f\"Embe Key: {EMBE_KEY}\")\n",
    "print(f\"Database: {json_file_path}\")\n",
    "print(f\"Torch   : {torch_path}\")\n",
    "print(f\"Faiss   : {faiss_path}\")\n",
    "print(f\"Mapping : {mapping_path}\")\n",
    "print(f\"Map Data: {mapping_data}\")\n",
    "print(f\"Schema  : {schema_ex_path}\")\n",
    "print(f\"Model   : {SWITCH}\")\n",
    "print(f\"Merge   : {MERGE}\")\n",
    "print(f\"API Key : {API_KEY}\")"
   ]
  },
  {
   "cell_type": "code",
   "execution_count": null,
   "id": "0896a406",
   "metadata": {},
   "outputs": [],
   "source": [
    "device = torch.device(\"cuda\" if torch.cuda.is_available() else \"cpu\")\n",
    "\n",
    "if (SWITCH == \"Auto Model\"):\n",
    "    try:\n",
    "        tokenizer = AutoTokenizer.from_pretrained(EMBEDD_MODEL, force_download=force_download)\n",
    "        model = AutoModel.from_pretrained(EMBEDD_MODEL, force_download=force_download)\n",
    "        model = model.to(device)\n",
    "        print(\"Model and tokenizer loaded successfully\")\n",
    "    except Exception as e:\n",
    "        raise\n",
    "elif (SWITCH == \"Sentence Transformer\"):\n",
    "    try:\n",
    "        # model = SentenceTransformer(EMBEDD_MODEL).to(device)\n",
    "        model = SentenceTransformer(\"../../cached_model\")\n",
    "        print(\"SentenceTransformer loaded successfully\")\n",
    "    except Exception as e:\n",
    "        raise\n",
    "\n",
    "print(f\"Using: {device}\")"
   ]
  }
 ],
 "metadata": {
  "kernelspec": {
   "display_name": ".venv",
   "language": "python",
   "name": "python3"
  },
  "language_info": {
   "codemirror_mode": {
    "name": "ipython",
    "version": 3
   },
   "file_extension": ".py",
   "mimetype": "text/x-python",
   "name": "python",
   "nbconvert_exporter": "python",
   "pygments_lexer": "ipython3",
   "version": "3.10.11"
  }
 },
 "nbformat": 4,
 "nbformat_minor": 5
}
