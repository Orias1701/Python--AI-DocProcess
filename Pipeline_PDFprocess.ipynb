{
 "cells": [
  {
   "cell_type": "code",
   "execution_count": null,
   "metadata": {},
   "outputs": [],
   "source": [
    "# main_pipeline.py\n",
    "import fitz, faiss\n",
    "from Config import Configs\n",
    "from Config import ModelLoader as ML\n",
    "from Libraries import Common_MyUtils as MU, Common_TextProcess as TP\n",
    "from Libraries import PDF_ExtractData as ExtractData, PDF_MergeData as MergeData, PDF_QualityCheck as QualityCheck\n",
    "from Libraries import Json_ChunkUnder as ChunkUnder\n",
    "from Libraries import Faiss_Searching as F_Searching, Faiss_ChunkMapping as ChunkMapper\n",
    "from Libraries import Summarizer_Runner as SummaryRun\n",
    "from sentence_transformers import CrossEncoder"
   ]
  },
  {
   "cell_type": "code",
   "execution_count": null,
   "metadata": {},
   "outputs": [],
   "source": [
    "Checkpoint = \"vinai/bartpho-syllable\"\n",
    "service = \"Categories\"\n",
    "inputs = \"BAD.pdf\"\n",
    "JsonKey = \"paragraphs\"\n",
    "JsonField = \"Text\""
   ]
  },
  {
   "cell_type": "code",
   "execution_count": null,
   "metadata": {},
   "outputs": [],
   "source": [
    "config = Configs.ConfigValues(service=service, inputs=inputs)\n",
    "inputPath = config[\"inputPath\"]\n",
    "PdfPath = config[\"PdfPath\"]\n",
    "DocPath = config[\"DocPath\"]\n",
    "exceptPath = config[\"exceptPath\"]\n",
    "markerPath = config[\"markerPath\"]\n",
    "statusPath = config[\"statusPath\"]\n",
    "RawDataPath = config[\"RawDataPath\"]\n",
    "RawLvlsPath = config[\"RawLvlsPath\"]\n",
    "StructsPath = config[\"StructsPath\"]\n",
    "SegmentPath = config[\"SegmentPath\"]\n",
    "SchemaPath = config[\"SchemaPath\"]\n",
    "FaissPath = config[\"FaissPath\"]\n",
    "MappingPath = config[\"MappingPath\"]\n",
    "MapDataPath = config[\"MapDataPath\"]\n",
    "MapChunkPath = config[\"MapChunkPath\"]\n",
    "MetaPath = config[\"MetaPath\"]\n",
    "DATA_KEY = config[\"DATA_KEY\"]\n",
    "EMBE_KEY = config[\"EMBE_KEY\"]\n",
    "SEARCH_EGINE = config[\"SEARCH_EGINE\"]\n",
    "RERANK_MODEL = config[\"RERANK_MODEL\"]\n",
    "RESPON_MODEL = config[\"RESPON_MODEL\"]\n",
    "EMBEDD_MODEL = config[\"EMBEDD_MODEL\"]\n",
    "CHUNKS_MODEL = config[\"CHUNKS_MODEL\"]\n",
    "SUMARY_MODEL = config[\"SUMARY_MODEL\"]\n",
    "WORD_LIMIT = config[\"WORD_LIMIT\"]\n",
    "\n",
    "MODEL_DIR = \"Models\"\n",
    "MODEL_ENCODE = \"Sentence_Transformer\"\n",
    "MODEL_SUMARY = \"Summarizer\"\n",
    "EMBEDD_CACHED_MODEL = f\"{MODEL_DIR}/{MODEL_ENCODE}/{EMBEDD_MODEL}\"\n",
    "CHUNKS_CACHED_MODEL = F\"{MODEL_DIR}/{MODEL_ENCODE}/{CHUNKS_MODEL}\"\n",
    "SUMARY_CACHED_MODEL = f\"{MODEL_DIR}/{MODEL_SUMARY}/{SUMARY_MODEL}\"\n",
    "\n",
    "MAX_INPUT = 1024\n",
    "MAX_TARGET = 256\n",
    "MIN_TARGET = 64\n",
    "TRAIN_EPOCHS = 3\n",
    "LEARNING_RATE = 3e-5\n",
    "WEIGHT_DECAY = 0.01\n",
    "BATCH_SIZE = 4"
   ]
  },
  {
   "cell_type": "code",
   "execution_count": null,
   "metadata": {},
   "outputs": [],
   "source": [
    "def loadHardcodes(file_path, wanted=None):\n",
    "    data = MU.read_json(file_path)\n",
    "    if \"items\" not in data:\n",
    "        return\n",
    "    result = {}\n",
    "    for item in data[\"items\"]:\n",
    "        key = item[\"key\"]\n",
    "        if (not wanted) or (key in wanted):\n",
    "            result[key] = item[\"values\"]\n",
    "    return result"
   ]
  },
  {
   "cell_type": "code",
   "execution_count": null,
   "metadata": {},
   "outputs": [],
   "source": [
    "exceptData = loadHardcodes(exceptPath, wanted=[\"common_words\", \"proper_names\", \"abbreviations\"])\n",
    "markerData = loadHardcodes(markerPath, wanted=[\"keywords\", \"markers\"])\n",
    "statusData = loadHardcodes(statusPath, wanted=[\"brackets\", \"sentence_ends\"])"
   ]
  },
  {
   "cell_type": "code",
   "execution_count": null,
   "metadata": {},
   "outputs": [],
   "source": [
    "Loader = ML.ModelLoader()\n",
    "indexer, embeddDevice = Loader.load_encoder(EMBEDD_MODEL, EMBEDD_CACHED_MODEL)\n",
    "chunker, chunksDevice = Loader.load_encoder(CHUNKS_MODEL, CHUNKS_CACHED_MODEL)\n",
    "\n",
    "tokenizer, summarizer, summaryDevice = Loader.load_summarizer(SUMARY_MODEL, SUMARY_CACHED_MODEL)"
   ]
  },
  {
   "cell_type": "code",
   "execution_count": null,
   "metadata": {},
   "outputs": [],
   "source": [
    "def runPrepareData():\n",
    "    SegmentDict = MU.read_json(SegmentPath)\n",
    "    Mapping = MU.read_json(MappingPath)\n",
    "    MapData = MU.read_json(MapDataPath)\n",
    "    \n",
    "    MapChunk = MU.read_json(MapChunkPath)\n",
    "    faissIndex = faiss.read_index(FaissPath)\n",
    "    return SegmentDict, Mapping, MapData, MapChunk, faissIndex\n",
    "\n",
    "SegmentDict, Mapping, MapData, MapChunk, faissIndex = runPrepareData()"
   ]
  },
  {
   "cell_type": "code",
   "execution_count": null,
   "metadata": {},
   "outputs": [],
   "source": [
    "dataExtractor = ExtractData.B1Extractor(\n",
    "    exceptData,\n",
    "    markerData,\n",
    "    statusData,\n",
    "    proper_name_min_count=10\n",
    ")\n",
    "\n",
    "chunkUnder = ChunkUnder.ChunkUndertheseaBuilder(\n",
    "    embedder=indexer,\n",
    "    device=embeddDevice,\n",
    "    min_words=256,\n",
    "    max_words=768,\n",
    "    sim_threshold=0.7,\n",
    "    key_sent_ratio=0.4\n",
    ")\n",
    "\n",
    "summarizer_engine = SummaryRun.RecursiveSummarizer(\n",
    "    tokenizer=tokenizer,\n",
    "    summarizer=summarizer,\n",
    "    sum_device=summaryDevice,\n",
    "    chunk_builder=chunkUnder,\n",
    "    max_length=200,\n",
    "    min_length=100,\n",
    "    max_depth=4\n",
    ")\n",
    "\n",
    "reranker = CrossEncoder(RERANK_MODEL, device=str(embeddDevice))\n",
    "searchEngine = F_Searching.SemanticSearchEngine(\n",
    "    indexer=indexer,\n",
    "    reranker=reranker,\n",
    "    device=str(embeddDevice),\n",
    "    normalize=True,\n",
    "    top_k=20,\n",
    "    rerank_k=10,\n",
    "    rerank_batch_size=16\n",
    ")"
   ]
  },
  {
   "cell_type": "code",
   "execution_count": null,
   "metadata": {},
   "outputs": [],
   "source": [
    "def extractRun(pdf_doc):\n",
    "    extractedData = dataExtractor.extract(pdf_doc)\n",
    "    RawDataDict = MergeData.mergeLinesToParagraphs(extractedData)\n",
    "    return RawDataDict"
   ]
  },
  {
   "cell_type": "code",
   "execution_count": null,
   "metadata": {},
   "outputs": [],
   "source": [
    "def runSearch(query):\n",
    "    results = searchEngine.search(\n",
    "        query=query,\n",
    "        faissIndex=faissIndex,\n",
    "        Mapping=Mapping,\n",
    "        MapData=MapData,\n",
    "        MapChunk=MapChunk,\n",
    "        top_k=20\n",
    "    )\n",
    "    return results"
   ]
  },
  {
   "cell_type": "code",
   "execution_count": null,
   "metadata": {},
   "outputs": [],
   "source": [
    "def runRerank(query, results):\n",
    "    reranked = searchEngine.rerank(\n",
    "        query=query,\n",
    "        results=results,\n",
    "        top_k=10\n",
    "    )\n",
    "    return reranked"
   ]
  },
  {
   "cell_type": "code",
   "execution_count": null,
   "metadata": {},
   "outputs": [],
   "source": [
    "def mainRun(pdf_doc):\n",
    "    RawDataDict = extractRun(pdf_doc)\n",
    "    full_text = TP.merge_txt(RawDataDict, JsonKey, JsonField)\n",
    "    summarized = summarizer_engine.summarize(full_text, minInput = 256, maxInput = 1024)\n",
    "    summaryText = summarized[\"summary_text\"]\n",
    "    resuls = runSearch(summaryText)\n",
    "    reranked = runRerank(summaryText, resuls)\n",
    "    chunkReturn = ChunkMapper.process_chunks_pipeline(\n",
    "        reranked_results=reranked,\n",
    "        SegmentDict=SegmentDict,\n",
    "        drop_fields=[\"Index\"],\n",
    "        fields=[\"Article\"],\n",
    "        n_chunks=1,\n",
    "    )\n",
    "    bestArticles = [item[\"fields\"].get(\"Article\") for item in chunkReturn[\"extracted_fields\"]]\n",
    "    bestArticle = bestArticles[0] if len(bestArticles) == 1 else \", \".join(bestArticles)\n",
    "    return summaryText, bestArticle"
   ]
  },
  {
   "cell_type": "code",
   "execution_count": null,
   "metadata": {},
   "outputs": [],
   "source": [
    "pdf_doc = fitz.open(inputPath)\n",
    "summaryText, bestArticle = mainRun(pdf_doc)\n",
    "pdf_doc.close()"
   ]
  },
  {
   "cell_type": "code",
   "execution_count": null,
   "metadata": {},
   "outputs": [],
   "source": [
    "print(summaryText)\n",
    "print(bestArticle)"
   ]
  }
 ],
 "metadata": {
  "kernelspec": {
   "display_name": "master",
   "language": "python",
   "name": "python3"
  },
  "language_info": {
   "codemirror_mode": {
    "name": "ipython",
    "version": 3
   },
   "file_extension": ".py",
   "mimetype": "text/x-python",
   "name": "python",
   "nbconvert_exporter": "python",
   "pygments_lexer": "ipython3",
   "version": "3.11.13"
  }
 },
 "nbformat": 4,
 "nbformat_minor": 2
}
