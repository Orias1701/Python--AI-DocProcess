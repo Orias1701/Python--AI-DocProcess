{
 "cells": [
  {
   "cell_type": "code",
   "execution_count": null,
   "id": "c9d32f15",
   "metadata": {},
   "outputs": [],
   "source": [
    "import os\n",
    "import random\n",
    "import json\n",
    "from transformers import AutoTokenizer\n",
    "from datasets import load_from_disk, load_dataset, DatasetDict\n",
    "from Libraries import Summarizer_Trainer as Trainer"
   ]
  },
  {
   "cell_type": "code",
   "execution_count": null,
   "id": "6a039e81",
   "metadata": {},
   "outputs": [],
   "source": [
    "# ============================================================\n",
    "# 1️⃣  CẤU HÌNH BIẾN TOÀN CỤC\n",
    "# ============================================================\n",
    "DATABASE = \"Database\"\n",
    "DATASET = \"Datasets/vietnews\"\n",
    "MODELS = \"Models\"\n",
    "Service = \"Summarizer\"\n",
    "DataFile = \"TrainData.jsonl\"\n",
    "ModelName = \"bartpho-summarizer\"\n",
    "Checkpoint = \"vinai/bartpho-syllable\"\n",
    "\n",
    "DataPath = f\"{DATABASE}/{Service}/{DataFile}\"\n",
    "ModelPath = f\"{MODELS}/{Service}/{ModelName}\"\n",
    "\n",
    "# ⚙️ THÔNG SỐ HUẤN LUYỆN — TỐI ƯU CHO RTX 4050 8GB\n",
    "MAX_INPUT_LENGTH = 512          # rút ngắn để giảm bộ nhớ & tăng tốc\n",
    "MAX_TARGET_LENGTH = 128\n",
    "NUM_TRAIN_EPOCHS = 3            # khoảng 8–10h với cấu hình này\n",
    "LEARNING_RATE = 3e-5\n",
    "WEIGHT_DECAY = 0.01\n",
    "BATCH_SIZE = 2                  # vừa khít GPU 8GB khi fp16 + grad_accum=4"
   ]
  },
  {
   "cell_type": "code",
   "execution_count": null,
   "id": "90c898a3",
   "metadata": {},
   "outputs": [],
   "source": [
    "if not os.path.exists(DATASET):\n",
    "    ds = load_dataset(\"nam194/vietnews\")\n",
    "    ds.save_to_disk(\"Datasets/vietnews\")"
   ]
  },
  {
   "cell_type": "code",
   "execution_count": null,
   "id": "8455b50b",
   "metadata": {},
   "outputs": [],
   "source": [
    "# ============================================================\n",
    "# 2️⃣  LOAD DATASET\n",
    "# ============================================================\n",
    "print(\"🔹 Đang tải dataset ...\")\n",
    "if os.path.isdir(DATASET):\n",
    "    dataset = load_from_disk(DATASET)\n",
    "elif os.path.exists(DataPath):\n",
    "    from datasets import load_dataset\n",
    "    dataset = load_dataset(\"json\", data_files=DataPath)\n",
    "else:\n",
    "    raise FileNotFoundError(f\"❌ Không tìm thấy dataset tại {DATASET} hoặc {DataPath}\")\n",
    "\n",
    "print(f\"✅ Dataset loaded thành công: {dataset}\")\n",
    "if isinstance(dataset, DatasetDict):\n",
    "    print(f\"📦 Các split: {list(dataset.keys())}\")"
   ]
  },
  {
   "cell_type": "code",
   "execution_count": null,
   "id": "fe5020e5",
   "metadata": {},
   "outputs": [],
   "source": [
    "# ============================================================\n",
    "# 3️⃣  TOKENIZER & TRAINER KHỞI TẠO\n",
    "# ============================================================\n",
    "print(f\"🔹 Đang tải tokenizer từ checkpoint: {Checkpoint}\")\n",
    "tokenizer = AutoTokenizer.from_pretrained(Checkpoint)\n",
    "\n",
    "summarizer_trainer = Trainer.SummarizationTrainer(\n",
    "    # ===== DỮ LIỆU =====\n",
    "    Max_Input_Length=MAX_INPUT_LENGTH,\n",
    "    Max_Target_Length=MAX_TARGET_LENGTH,\n",
    "    prefix=\"\",                          # BARTPho không cần tiền tố\n",
    "    input_column=\"article\",\n",
    "    target_column=\"abstract\",           # VietNews dùng cột \"abstract\"\n",
    "\n",
    "    # ===== HUẤN LUYỆN =====\n",
    "    Learning_Rate=LEARNING_RATE,\n",
    "    Weight_Decay=WEIGHT_DECAY,\n",
    "    Batch_Size=BATCH_SIZE,\n",
    "    Num_Train_Epochs=NUM_TRAIN_EPOCHS,\n",
    "    gradient_accumulation_steps=4,      # → effective batch = 2×4 = 8\n",
    "    warmup_ratio=0.1,                   # tăng dần LR trong 10% đầu\n",
    "    lr_scheduler_type=\"linear\",\n",
    "    seed=42,\n",
    "\n",
    "    # ===== SUY DIỄN / SINH =====\n",
    "    num_beams=4,                        # trade-off giữa chất lượng & tốc độ\n",
    "    fp16=True,                          # giảm VRAM, tăng tốc\n",
    "    early_stopping_patience=1,          # dừng sớm nếu không cải thiện\n",
    "    logging_steps=500,\n",
    "    report_to=\"none\",                   # tắt logging ngoài\n",
    ")"
   ]
  },
  {
   "cell_type": "code",
   "execution_count": null,
   "id": "53359c42",
   "metadata": {},
   "outputs": [],
   "source": [
    "# ============================================================\n",
    "# 4️⃣  CHẠY HUẤN LUYỆN\n",
    "# ============================================================\n",
    "print(\"\\n🚀 Bắt đầu huấn luyện ...\\n\")\n",
    "trainer = summarizer_trainer.run(\n",
    "    Checkpoint=Checkpoint,\n",
    "    ModelPath=ModelPath,\n",
    "    DataPath=DATASET,\n",
    "    tokenizer=tokenizer,\n",
    ")\n",
    "print(\"\\n✅ Huấn luyện hoàn tất.\")"
   ]
  },
  {
   "cell_type": "code",
   "execution_count": null,
   "id": "06bcd8e0",
   "metadata": {},
   "outputs": [],
   "source": [
    "# ============================================================\n",
    "# 5️⃣  KIỂM THỬ NHANH\n",
    "# ============================================================\n",
    "if \"test\" in dataset:\n",
    "    sample = random.choice(dataset[\"test\"])\n",
    "elif \"validation\" in dataset:\n",
    "    sample = random.choice(dataset[\"validation\"])\n",
    "else:\n",
    "    sample = random.choice(dataset[\"train\"])\n",
    "\n",
    "article_text = sample[\"article\"]\n",
    "print(\"\\n📰 Bài báo gốc:\\n\")\n",
    "print(article_text[:700], \"...\")\n",
    "\n",
    "summary = summarizer_trainer.generate(article_text, max_new_tokens=160)\n",
    "print(\"\\n🧾 Tóm tắt mô hình sinh ra:\\n\")\n",
    "print(summary)"
   ]
  },
  {
   "cell_type": "code",
   "execution_count": null,
   "id": "cb22b2f5",
   "metadata": {},
   "outputs": [],
   "source": [
    "# ============================================================\n",
    "# 6️⃣  ĐÁNH GIÁ & LƯU KẾT QUẢ\n",
    "# ============================================================\n",
    "print(\"\\n📊 Đang đánh giá mô hình ...\")\n",
    "eval_results = trainer.evaluate()\n",
    "results_path = os.path.join(ModelPath, \"eval_results.json\")\n",
    "\n",
    "with open(results_path, \"w\", encoding=\"utf-8\") as f:\n",
    "    json.dump(eval_results, f, ensure_ascii=False, indent=2)\n",
    "\n",
    "print(f\"💾 Kết quả ROUGE đã lưu tại: {results_path}\")\n",
    "print(\"\\n🎯 Pipeline hoàn tất.\")"
   ]
  }
 ],
 "metadata": {
  "kernelspec": {
   "display_name": "master",
   "language": "python",
   "name": "python3"
  },
  "language_info": {
   "codemirror_mode": {
    "name": "ipython",
    "version": 3
   },
   "file_extension": ".py",
   "mimetype": "text/x-python",
   "name": "python",
   "nbconvert_exporter": "python",
   "pygments_lexer": "ipython3",
   "version": "3.11.13"
  }
 },
 "nbformat": 4,
 "nbformat_minor": 5
}
