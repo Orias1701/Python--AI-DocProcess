{
 "cells": [
  {
   "cell_type": "code",
   "execution_count": null,
   "metadata": {},
   "outputs": [],
   "source": [
    "import faiss\n",
    "\n",
    "from Config import Configs\n",
    "from Config import ModelLoader as ML\n",
    "\n",
    "from Libraries import Common_MyUtils as MU\n",
    "\n",
    "from Libraries import Faiss_Embedding as F_Embedding, Faiss_Searching as F_Searching, Faiss_ChunkMapping as ChunkMapper\n",
    "from sentence_transformers import CrossEncoder"
   ]
  },
  {
   "cell_type": "markdown",
   "metadata": {},
   "source": [
    "## CONFIGURATIONS"
   ]
  },
  {
   "cell_type": "markdown",
   "metadata": {},
   "source": [
    "#### SERVICES"
   ]
  },
  {
   "cell_type": "code",
   "execution_count": null,
   "metadata": {},
   "outputs": [],
   "source": [
    "Checkpoint = \"vinai/bartpho-syllable\"\n",
    "service = \"Categories\"\n",
    "inputs = \"HNMU.pdf\"\n",
    "JsonKey = \"paragraphs\"\n",
    "JsonField = \"Text\""
   ]
  },
  {
   "cell_type": "markdown",
   "metadata": {},
   "source": [
    "#### PATHS & MODELS"
   ]
  },
  {
   "cell_type": "code",
   "execution_count": null,
   "metadata": {},
   "outputs": [],
   "source": [
    "config = Configs.ConfigValues(service=service, inputs=inputs)\n",
    "inputPath = config[\"inputPath\"]\n",
    "PdfPath = config[\"PdfPath\"]\n",
    "DocPath = config[\"DocPath\"]\n",
    "exceptPath = config[\"exceptPath\"]\n",
    "markerPath = config[\"markerPath\"]\n",
    "statusPath = config[\"statusPath\"]\n",
    "RawDataPath = config[\"RawDataPath\"]\n",
    "RawLvlsPath = config[\"RawLvlsPath\"]\n",
    "StructsPath = config[\"StructsPath\"]\n",
    "SegmentPath = config[\"SegmentPath\"]\n",
    "SchemaPath = config[\"SchemaPath\"]\n",
    "FaissPath = config[\"FaissPath\"]\n",
    "MappingPath = config[\"MappingPath\"]\n",
    "MapDataPath = config[\"MapDataPath\"]\n",
    "MapChunkPath = config[\"MapChunkPath\"]\n",
    "MetaPath = config[\"MetaPath\"]\n",
    "DATA_KEY = config[\"DATA_KEY\"]\n",
    "EMBE_KEY = config[\"EMBE_KEY\"]\n",
    "SEARCH_EGINE = config[\"SEARCH_EGINE\"]\n",
    "RERANK_MODEL = config[\"RERANK_MODEL\"]\n",
    "RESPON_MODEL = config[\"RESPON_MODEL\"]\n",
    "EMBEDD_MODEL = config[\"EMBEDD_MODEL\"]\n",
    "CHUNKS_MODEL = config[\"CHUNKS_MODEL\"]\n",
    "SUMARY_MODEL = config[\"SUMARY_MODEL\"]\n",
    "WORD_LIMIT = config[\"WORD_LIMIT\"]\n",
    "\n",
    "MODEL_DIR = \"Models\"\n",
    "MODEL_ENCODE = \"Sentence_Transformer\"\n",
    "MODEL_SUMARY = \"Summarizer\"\n",
    "EMBEDD_CACHED_MODEL = f\"{MODEL_DIR}/{MODEL_ENCODE}/{EMBEDD_MODEL}\"\n",
    "CHUNKS_CACHED_MODEL = F\"{MODEL_DIR}/{MODEL_ENCODE}/{CHUNKS_MODEL}\"\n",
    "SUMARY_CACHED_MODEL = f\"{MODEL_DIR}/{MODEL_SUMARY}/{SUMARY_MODEL}\"\n",
    "\n",
    "MAX_INPUT = 1024\n",
    "MAX_TARGET = 256\n",
    "MIN_TARGET = 64\n",
    "TRAIN_EPOCHS = 3\n",
    "LEARNING_RATE = 3e-5\n",
    "WEIGHT_DECAY = 0.01\n",
    "BATCH_SIZE = 4"
   ]
  },
  {
   "cell_type": "markdown",
   "metadata": {},
   "source": [
    "#### DEVICE"
   ]
  },
  {
   "cell_type": "code",
   "execution_count": null,
   "metadata": {},
   "outputs": [],
   "source": [
    "Loader = ML.ModelLoader()\n",
    "indexer, embeddDevice = Loader.load_encoder(EMBEDD_MODEL, EMBEDD_CACHED_MODEL)\n",
    "chunker, chunksDevice = Loader.load_encoder(CHUNKS_MODEL, CHUNKS_CACHED_MODEL)"
   ]
  },
  {
   "cell_type": "code",
   "execution_count": null,
   "metadata": {},
   "outputs": [],
   "source": [
    "faissIndexer = F_Embedding.DirectFaissIndexer(\n",
    "    indexer=indexer,\n",
    "    device=str(embeddDevice),\n",
    "    batch_size=32,\n",
    "    show_progress=True,\n",
    "    flatten_mode=\"split\",\n",
    "    join_sep=\"\\n\",\n",
    "    allowed_schema_types=(\"string\", \"array\", \"dict\"),\n",
    "    max_chars_per_text=2000,\n",
    "    normalize=True,\n",
    "    verbose=False\n",
    ")"
   ]
  },
  {
   "cell_type": "markdown",
   "metadata": {},
   "source": [
    "#### LOAD EXISTED DATA"
   ]
  },
  {
   "cell_type": "code",
   "execution_count": null,
   "metadata": {},
   "outputs": [],
   "source": [
    "def runPrepareData():\n",
    "    SegmentDict = MU.read_json(SegmentPath)\n",
    "    Mapping = MU.read_json(MappingPath)\n",
    "    MapData = MU.read_json(MapDataPath)\n",
    "    \n",
    "    MapChunk = MU.read_json(MapChunkPath)\n",
    "    faissIndex = faiss.read_index(FaissPath)\n",
    "    return SegmentDict, Mapping, MapData, MapChunk, faissIndex"
   ]
  },
  {
   "cell_type": "markdown",
   "metadata": {},
   "source": [
    "### RUN PREPARING"
   ]
  },
  {
   "cell_type": "code",
   "execution_count": null,
   "metadata": {},
   "outputs": [],
   "source": [
    "SegmentDict, Mapping, MapData, MapChunk, faissIndex = runPrepareData()"
   ]
  },
  {
   "cell_type": "markdown",
   "metadata": {},
   "source": [
    "## QUERYING"
   ]
  },
  {
   "cell_type": "markdown",
   "metadata": {},
   "source": [
    "#### IMPORT CLASSES"
   ]
  },
  {
   "cell_type": "code",
   "execution_count": null,
   "metadata": {},
   "outputs": [],
   "source": [
    "reranker = CrossEncoder(RERANK_MODEL, device=str(embeddDevice))\n",
    "engine = F_Searching.SemanticSearchEngine(\n",
    "    indexer=indexer,\n",
    "    reranker=reranker,\n",
    "    device=str(embeddDevice),\n",
    "    normalize=True,\n",
    "    top_k=20,\n",
    "    rerank_k=10,\n",
    "    rerank_batch_size=16\n",
    ")"
   ]
  },
  {
   "cell_type": "markdown",
   "metadata": {},
   "source": [
    "#### SEARCH"
   ]
  },
  {
   "cell_type": "code",
   "execution_count": null,
   "metadata": {},
   "outputs": [],
   "source": [
    "def runSearch(query):\n",
    "    results = engine.search(\n",
    "        query=query,\n",
    "        faissIndex=faissIndex,\n",
    "        Mapping=Mapping,\n",
    "        MapData=MapData,\n",
    "        MapChunk=MapChunk,\n",
    "        top_k=20\n",
    "    )\n",
    "    return results"
   ]
  },
  {
   "cell_type": "markdown",
   "metadata": {},
   "source": [
    "#### RERANK"
   ]
  },
  {
   "cell_type": "code",
   "execution_count": null,
   "metadata": {},
   "outputs": [],
   "source": [
    "def runRerank(query, results):\n",
    "    reranked = engine.rerank(\n",
    "        query=query,\n",
    "        results=results,\n",
    "        top_k=10\n",
    "    )\n",
    "    return reranked"
   ]
  },
  {
   "cell_type": "markdown",
   "metadata": {},
   "source": [
    "#### RESPONSE"
   ]
  },
  {
   "cell_type": "code",
   "execution_count": null,
   "metadata": {},
   "outputs": [],
   "source": [
    "query = \"Thuật ngữ“quy hoạch động” (Dynamic Programming –DP) do Richard Bellman đặt ra vào thập niên 1950. Từ'programming' ởđây không mang nghĩa 'lập trình máy tính', mà là 'lập kếhoạch' (planning). “Dynamic” nghĩa là 'động', ám chỉquá trình tối ưu liên tiếp qua các giai đoạn. Do đó, quy hoạch động nghĩa là **lập kếhoạch tối ưu theo từng bước, dựa trên kết quảcủa các bước trước đó**\""
   ]
  },
  {
   "cell_type": "code",
   "execution_count": null,
   "metadata": {},
   "outputs": [],
   "source": [
    "resuls = runSearch(query)\n",
    "reranked = runRerank(query, resuls)\n",
    "\n",
    "for i, item in enumerate(reranked):\n",
    "    print(f\"{i}. (Score: {item['rerank_score']:.4f}) {item['text']}\")\n"
   ]
  },
  {
   "cell_type": "code",
   "execution_count": null,
   "metadata": {},
   "outputs": [],
   "source": [
    "data = MU.read_json(\"Config/APIs.json\")\n",
    "API_KEY = data[\"APIs\"][0]\n",
    "# print(API_KEY)"
   ]
  },
  {
   "cell_type": "code",
   "execution_count": null,
   "metadata": {},
   "outputs": [],
   "source": [
    "chunkReturn = ChunkMapper.process_chunks_pipeline(\n",
    "    reranked_results=reranked,\n",
    "    SegmentDict=SegmentDict,\n",
    "    drop_fields=[\"Index\"],          # 1) Trường bị bỏ qua (áp dụng toàn bộ). None → không bỏ\n",
    "    fields=[\"Article\"],             # 2) Trường muốn trả cho mỗi chunk. None → tất cả top-level còn lại\n",
    "    n_chunks=1,                     # 3) Số lượng chunk gốc được trả về. None → tất cả\n",
    ")"
   ]
  },
  {
   "cell_type": "code",
   "execution_count": null,
   "metadata": {},
   "outputs": [],
   "source": [
    "print(chunkReturn[\"chunks_text\"])"
   ]
  },
  {
   "cell_type": "code",
   "execution_count": null,
   "metadata": {},
   "outputs": [],
   "source": [
    "bestArticles = [item[\"fields\"].get(\"Article\") for item in chunkReturn[\"extracted_fields\"]]\n",
    "bestArticle = bestArticles[0] if len(bestArticles) == 1 else \", \".join(bestArticles)\n",
    "\n",
    "print(bestArticle)"
   ]
  }
 ],
 "metadata": {
  "kernelspec": {
   "display_name": "master",
   "language": "python",
   "name": "python3"
  },
  "language_info": {
   "codemirror_mode": {
    "name": "ipython",
    "version": 3
   },
   "file_extension": ".py",
   "mimetype": "text/x-python",
   "name": "python",
   "nbconvert_exporter": "python",
   "pygments_lexer": "ipython3",
   "version": "3.11.13"
  }
 },
 "nbformat": 4,
 "nbformat_minor": 2
}
