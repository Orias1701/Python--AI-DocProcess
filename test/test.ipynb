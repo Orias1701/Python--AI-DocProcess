{
 "cells": [
  {
   "cell_type": "code",
   "execution_count": 3,
   "id": "6e5b72de",
   "metadata": {},
   "outputs": [
    {
     "name": "stdout",
     "output_type": "stream",
     "text": [
      "✅ File PDF xấu đã tạo xong: bad.pdf\n"
     ]
    }
   ],
   "source": [
    "import fitz\n",
    "\n",
    "def create_bad_pdf(output_path=\"bad.pdf\", repeat_times=5):\n",
    "    \"\"\"\n",
    "    Tạo PDF 'xấu' chứa ký tự lỗi, khoảng trắng thừa, dòng ngắn... lặp lại nhiều lần.\n",
    "    Dùng để test module PDFQualityChecker.\n",
    "    \"\"\"\n",
    "    doc = fitz.open()\n",
    "    page = doc.new_page()\n",
    "\n",
    "    # ==== Mẫu văn bản \"xấu\" ====\n",
    "    text_good = (\n",
    "        \"Trường Đại học Thủ đô Hà Nội\\n\"\n",
    "        \"Khoa Công nghệ Thông tin\\n\\n\"\n",
    "        \"Báo cáo thực hành Python\\n\\n\"\n",
    "    )\n",
    "\n",
    "    text_bad_encode = (\n",
    "        \"��� ��□☒⸮⸮⸮ ☐☐☐☐☐☐☐☐☐☐\\n\"\n",
    "        \"Đây là dоng chứα kí tự lạ ☐☐☐☐\\n\"\n",
    "        \"Nó cό thể không đόc đưόc...\\n\\n\"\n",
    "    )\n",
    "\n",
    "    text_short_lines = \"\\n\".join([\"a\", \"b\", \"c\", \"d\", \"e\", \"f\", \"g\", \"h\", \"i\"]) + \"\\n\\n\"\n",
    "\n",
    "    text_spaces = (\n",
    "        \"Dòng     có     quá     nhiều     khoảng     trắng\\n\"\n",
    "        \"Cần     lọc     trước     khi     xử     lý\\n\\n\"\n",
    "    )\n",
    "\n",
    "    # ==== Lặp 5 lần để nhân mức độ lỗi ====\n",
    "    bad_sections = []\n",
    "    for i in range(repeat_times):\n",
    "        bad_sections.append(\n",
    "            f\"===== Mẫu lỗi lần {i+1} =====\\n\\n\"\n",
    "            + text_good\n",
    "            + text_bad_encode\n",
    "            + text_short_lines\n",
    "            + text_spaces\n",
    "            + \"\\n\\n\"\n",
    "        )\n",
    "\n",
    "    # Ghép tất cả\n",
    "    full_text = \"\\n\".join(bad_sections)\n",
    "\n",
    "    # ==== Ghi vào PDF ====\n",
    "    page.insert_text((72, 72), full_text, fontsize=12)\n",
    "    doc.save(output_path)\n",
    "    doc.close()\n",
    "    print(f\"✅ File PDF xấu đã tạo xong: {output_path}\")\n",
    "\n",
    "# 🔹 Gọi thử:\n",
    "create_bad_pdf(\"bad.pdf\", repeat_times=20)\n"
   ]
  }
 ],
 "metadata": {
  "kernelspec": {
   "display_name": "master",
   "language": "python",
   "name": "python3"
  },
  "language_info": {
   "codemirror_mode": {
    "name": "ipython",
    "version": 3
   },
   "file_extension": ".py",
   "mimetype": "text/x-python",
   "name": "python",
   "nbconvert_exporter": "python",
   "pygments_lexer": "ipython3",
   "version": "3.11.13"
  }
 },
 "nbformat": 4,
 "nbformat_minor": 5
}
